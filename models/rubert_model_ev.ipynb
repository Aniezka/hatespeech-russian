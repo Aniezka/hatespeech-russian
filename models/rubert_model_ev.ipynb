{
 "cells": [
  {
   "cell_type": "code",
   "execution_count": 10,
   "metadata": {},
   "outputs": [],
   "source": [
    "import pandas as pd \n",
    "\n",
    "\n",
    "data = pd.read_csv('rubert.csv')\n",
    "data = data.replace('toxic_original','ipa_non_toxic')\n",
    "data = data.replace('non_toxic_ipa','original_toxic')\n",
    "data.to_csv('rubert.csv', index=False )"
   ]
  },
  {
   "cell_type": "code",
   "execution_count": 11,
   "metadata": {},
   "outputs": [
    {
     "name": "stdout",
     "output_type": "stream",
     "text": [
      "Found existing installation: matplotlib 3.5.2\n",
      "Uninstalling matplotlib-3.5.2:\n",
      "  Successfully uninstalled matplotlib-3.5.2\n"
     ]
    }
   ],
   "source": [
    "!pip3 uninstall matplotlib -y"
   ]
  },
  {
   "cell_type": "code",
   "execution_count": 12,
   "metadata": {},
   "outputs": [
    {
     "name": "stdout",
     "output_type": "stream",
     "text": [
      "Collecting matplotlib\n",
      "  Using cached matplotlib-3.5.2-cp310-cp310-macosx_11_0_arm64.whl (7.2 MB)\n",
      "Requirement already satisfied: kiwisolver>=1.0.1 in /Library/Frameworks/Python.framework/Versions/3.10/lib/python3.10/site-packages (from matplotlib) (1.4.2)\n",
      "Requirement already satisfied: packaging>=20.0 in /Library/Frameworks/Python.framework/Versions/3.10/lib/python3.10/site-packages (from matplotlib) (21.3)\n",
      "Requirement already satisfied: fonttools>=4.22.0 in /Library/Frameworks/Python.framework/Versions/3.10/lib/python3.10/site-packages (from matplotlib) (4.33.3)\n",
      "Requirement already satisfied: numpy>=1.17 in /Library/Frameworks/Python.framework/Versions/3.10/lib/python3.10/site-packages (from matplotlib) (1.22.3)\n",
      "Requirement already satisfied: python-dateutil>=2.7 in /Library/Frameworks/Python.framework/Versions/3.10/lib/python3.10/site-packages (from matplotlib) (2.8.2)\n",
      "Requirement already satisfied: pyparsing>=2.2.1 in /Library/Frameworks/Python.framework/Versions/3.10/lib/python3.10/site-packages (from matplotlib) (3.0.9)\n",
      "Requirement already satisfied: pillow>=6.2.0 in /Library/Frameworks/Python.framework/Versions/3.10/lib/python3.10/site-packages (from matplotlib) (9.1.1)\n",
      "Requirement already satisfied: cycler>=0.10 in /Library/Frameworks/Python.framework/Versions/3.10/lib/python3.10/site-packages (from matplotlib) (0.11.0)\n",
      "Requirement already satisfied: six>=1.5 in /Library/Frameworks/Python.framework/Versions/3.10/lib/python3.10/site-packages (from python-dateutil>=2.7->matplotlib) (1.16.0)\n",
      "Installing collected packages: matplotlib\n",
      "Successfully installed matplotlib-3.5.2\n"
     ]
    }
   ],
   "source": [
    "!pip3 install matplotlib "
   ]
  },
  {
   "cell_type": "code",
   "execution_count": 13,
   "metadata": {},
   "outputs": [
    {
     "data": {
      "text/plain": [
       "ipa_non_toxic     12406\n",
       "original_toxic      915\n",
       "Name: who_wins_1, dtype: int64"
      ]
     },
     "execution_count": 13,
     "metadata": {},
     "output_type": "execute_result"
    }
   ],
   "source": [
    "data['who_wins_1'].value_counts()"
   ]
  },
  {
   "cell_type": "code",
   "execution_count": 14,
   "metadata": {},
   "outputs": [
    {
     "data": {
      "text/html": [
       "<div>\n",
       "<style scoped>\n",
       "    .dataframe tbody tr th:only-of-type {\n",
       "        vertical-align: middle;\n",
       "    }\n",
       "\n",
       "    .dataframe tbody tr th {\n",
       "        vertical-align: top;\n",
       "    }\n",
       "\n",
       "    .dataframe thead th {\n",
       "        text-align: right;\n",
       "    }\n",
       "</style>\n",
       "<table border=\"1\" class=\"dataframe\">\n",
       "  <thead>\n",
       "    <tr style=\"text-align: right;\">\n",
       "      <th></th>\n",
       "      <th>who_wins_1</th>\n",
       "      <th>target_group</th>\n",
       "    </tr>\n",
       "  </thead>\n",
       "  <tbody>\n",
       "    <tr>\n",
       "      <th>0</th>\n",
       "      <td>ipa_non_toxic</td>\n",
       "      <td>women</td>\n",
       "    </tr>\n",
       "    <tr>\n",
       "      <th>1</th>\n",
       "      <td>ipa_non_toxic</td>\n",
       "      <td>women</td>\n",
       "    </tr>\n",
       "    <tr>\n",
       "      <th>2</th>\n",
       "      <td>ipa_non_toxic</td>\n",
       "      <td>women</td>\n",
       "    </tr>\n",
       "    <tr>\n",
       "      <th>3</th>\n",
       "      <td>ipa_non_toxic</td>\n",
       "      <td>women</td>\n",
       "    </tr>\n",
       "    <tr>\n",
       "      <th>4</th>\n",
       "      <td>original_toxic</td>\n",
       "      <td>women</td>\n",
       "    </tr>\n",
       "  </tbody>\n",
       "</table>\n",
       "</div>"
      ],
      "text/plain": [
       "       who_wins_1 target_group\n",
       "0   ipa_non_toxic        women\n",
       "1   ipa_non_toxic        women\n",
       "2   ipa_non_toxic        women\n",
       "3   ipa_non_toxic        women\n",
       "4  original_toxic        women"
      ]
     },
     "execution_count": 14,
     "metadata": {},
     "output_type": "execute_result"
    }
   ],
   "source": [
    "df = data[['who_wins_1','target_group']]\n",
    "df.head()"
   ]
  },
  {
   "cell_type": "code",
   "execution_count": 15,
   "metadata": {},
   "outputs": [
    {
     "data": {
      "text/plain": [
       "man           4637\n",
       "women         2424\n",
       "other         2105\n",
       "born_place    1879\n",
       "lgbt          1299\n",
       "migrants       531\n",
       "child          421\n",
       "migrant         25\n",
       "Name: target_group, dtype: int64"
      ]
     },
     "execution_count": 15,
     "metadata": {},
     "output_type": "execute_result"
    }
   ],
   "source": [
    "df.target_group.value_counts()"
   ]
  },
  {
   "cell_type": "code",
   "execution_count": 16,
   "metadata": {},
   "outputs": [],
   "source": [
    "cor_data = pd.DataFrame(pd.get_dummies(df).corr())"
   ]
  },
  {
   "cell_type": "code",
   "execution_count": 17,
   "metadata": {},
   "outputs": [
    {
     "data": {
      "text/html": [
       "<div>\n",
       "<style scoped>\n",
       "    .dataframe tbody tr th:only-of-type {\n",
       "        vertical-align: middle;\n",
       "    }\n",
       "\n",
       "    .dataframe tbody tr th {\n",
       "        vertical-align: top;\n",
       "    }\n",
       "\n",
       "    .dataframe thead th {\n",
       "        text-align: right;\n",
       "    }\n",
       "</style>\n",
       "<table border=\"1\" class=\"dataframe\">\n",
       "  <thead>\n",
       "    <tr style=\"text-align: right;\">\n",
       "      <th></th>\n",
       "      <th>target_group_born_place</th>\n",
       "      <th>target_group_child</th>\n",
       "      <th>target_group_lgbt</th>\n",
       "      <th>target_group_man</th>\n",
       "      <th>target_group_migrant</th>\n",
       "      <th>target_group_migrants</th>\n",
       "      <th>target_group_other</th>\n",
       "      <th>target_group_women</th>\n",
       "    </tr>\n",
       "  </thead>\n",
       "  <tbody>\n",
       "    <tr>\n",
       "      <th>who_wins_1_ipa_non_toxic</th>\n",
       "      <td>0.028195</td>\n",
       "      <td>-0.003532</td>\n",
       "      <td>0.023238</td>\n",
       "      <td>0.030847</td>\n",
       "      <td>-0.008797</td>\n",
       "      <td>0.014373</td>\n",
       "      <td>0.006989</td>\n",
       "      <td>-0.092699</td>\n",
       "    </tr>\n",
       "    <tr>\n",
       "      <th>who_wins_1_original_toxic</th>\n",
       "      <td>-0.028195</td>\n",
       "      <td>0.003532</td>\n",
       "      <td>-0.023238</td>\n",
       "      <td>-0.030847</td>\n",
       "      <td>0.008797</td>\n",
       "      <td>-0.014373</td>\n",
       "      <td>-0.006989</td>\n",
       "      <td>0.092699</td>\n",
       "    </tr>\n",
       "  </tbody>\n",
       "</table>\n",
       "</div>"
      ],
      "text/plain": [
       "                           target_group_born_place  target_group_child  \\\n",
       "who_wins_1_ipa_non_toxic                  0.028195           -0.003532   \n",
       "who_wins_1_original_toxic                -0.028195            0.003532   \n",
       "\n",
       "                           target_group_lgbt  target_group_man  \\\n",
       "who_wins_1_ipa_non_toxic            0.023238          0.030847   \n",
       "who_wins_1_original_toxic          -0.023238         -0.030847   \n",
       "\n",
       "                           target_group_migrant  target_group_migrants  \\\n",
       "who_wins_1_ipa_non_toxic              -0.008797               0.014373   \n",
       "who_wins_1_original_toxic              0.008797              -0.014373   \n",
       "\n",
       "                           target_group_other  target_group_women  \n",
       "who_wins_1_ipa_non_toxic             0.006989           -0.092699  \n",
       "who_wins_1_original_toxic           -0.006989            0.092699  "
      ]
     },
     "execution_count": 17,
     "metadata": {},
     "output_type": "execute_result"
    }
   ],
   "source": [
    "cor_data=cor_data.drop('target_group_born_place') \n",
    "cor_data=cor_data.drop('target_group_child')\n",
    "cor_data=cor_data.drop('target_group_lgbt')\n",
    "cor_data=cor_data.drop('target_group_man')\n",
    "cor_data=cor_data.drop('target_group_migrant')\n",
    "cor_data=cor_data.drop('target_group_migrants')\n",
    "cor_data=cor_data.drop('target_group_women')\n",
    "cor_data=cor_data.drop('target_group_other')\n",
    "\n",
    "cor_data=cor_data.drop(columns=['who_wins_1_ipa_non_toxic','who_wins_1_original_toxic'])\n",
    "cor_data"
   ]
  },
  {
   "cell_type": "code",
   "execution_count": 18,
   "metadata": {},
   "outputs": [
    {
     "name": "stderr",
     "output_type": "stream",
     "text": [
      "/var/folders/f1/w7d0x47j0qq9jn7k7vhjrkzh0000gn/T/ipykernel_42572/508345773.py:1: SettingWithCopyWarning: \n",
      "A value is trying to be set on a copy of a slice from a DataFrame.\n",
      "Try using .loc[row_indexer,col_indexer] = value instead\n",
      "\n",
      "See the caveats in the documentation: https://pandas.pydata.org/pandas-docs/stable/user_guide/indexing.html#returning-a-view-versus-a-copy\n",
      "  df['true'] = ['ipa_non_toxic']*len(df)\n"
     ]
    },
    {
     "data": {
      "text/html": [
       "<div>\n",
       "<style scoped>\n",
       "    .dataframe tbody tr th:only-of-type {\n",
       "        vertical-align: middle;\n",
       "    }\n",
       "\n",
       "    .dataframe tbody tr th {\n",
       "        vertical-align: top;\n",
       "    }\n",
       "\n",
       "    .dataframe thead th {\n",
       "        text-align: right;\n",
       "    }\n",
       "</style>\n",
       "<table border=\"1\" class=\"dataframe\">\n",
       "  <thead>\n",
       "    <tr style=\"text-align: right;\">\n",
       "      <th></th>\n",
       "      <th>who_wins_1</th>\n",
       "      <th>target_group</th>\n",
       "      <th>true</th>\n",
       "    </tr>\n",
       "  </thead>\n",
       "  <tbody>\n",
       "    <tr>\n",
       "      <th>0</th>\n",
       "      <td>ipa_non_toxic</td>\n",
       "      <td>women</td>\n",
       "      <td>ipa_non_toxic</td>\n",
       "    </tr>\n",
       "    <tr>\n",
       "      <th>1</th>\n",
       "      <td>ipa_non_toxic</td>\n",
       "      <td>women</td>\n",
       "      <td>ipa_non_toxic</td>\n",
       "    </tr>\n",
       "    <tr>\n",
       "      <th>2</th>\n",
       "      <td>ipa_non_toxic</td>\n",
       "      <td>women</td>\n",
       "      <td>ipa_non_toxic</td>\n",
       "    </tr>\n",
       "    <tr>\n",
       "      <th>3</th>\n",
       "      <td>ipa_non_toxic</td>\n",
       "      <td>women</td>\n",
       "      <td>ipa_non_toxic</td>\n",
       "    </tr>\n",
       "    <tr>\n",
       "      <th>4</th>\n",
       "      <td>original_toxic</td>\n",
       "      <td>women</td>\n",
       "      <td>ipa_non_toxic</td>\n",
       "    </tr>\n",
       "    <tr>\n",
       "      <th>...</th>\n",
       "      <td>...</td>\n",
       "      <td>...</td>\n",
       "      <td>...</td>\n",
       "    </tr>\n",
       "    <tr>\n",
       "      <th>13316</th>\n",
       "      <td>original_toxic</td>\n",
       "      <td>man</td>\n",
       "      <td>ipa_non_toxic</td>\n",
       "    </tr>\n",
       "    <tr>\n",
       "      <th>13317</th>\n",
       "      <td>ipa_non_toxic</td>\n",
       "      <td>other</td>\n",
       "      <td>ipa_non_toxic</td>\n",
       "    </tr>\n",
       "    <tr>\n",
       "      <th>13318</th>\n",
       "      <td>ipa_non_toxic</td>\n",
       "      <td>other</td>\n",
       "      <td>ipa_non_toxic</td>\n",
       "    </tr>\n",
       "    <tr>\n",
       "      <th>13319</th>\n",
       "      <td>ipa_non_toxic</td>\n",
       "      <td>child</td>\n",
       "      <td>ipa_non_toxic</td>\n",
       "    </tr>\n",
       "    <tr>\n",
       "      <th>13320</th>\n",
       "      <td>ipa_non_toxic</td>\n",
       "      <td>man</td>\n",
       "      <td>ipa_non_toxic</td>\n",
       "    </tr>\n",
       "  </tbody>\n",
       "</table>\n",
       "<p>13321 rows × 3 columns</p>\n",
       "</div>"
      ],
      "text/plain": [
       "           who_wins_1 target_group           true\n",
       "0       ipa_non_toxic        women  ipa_non_toxic\n",
       "1       ipa_non_toxic        women  ipa_non_toxic\n",
       "2       ipa_non_toxic        women  ipa_non_toxic\n",
       "3       ipa_non_toxic        women  ipa_non_toxic\n",
       "4      original_toxic        women  ipa_non_toxic\n",
       "...               ...          ...            ...\n",
       "13316  original_toxic          man  ipa_non_toxic\n",
       "13317   ipa_non_toxic        other  ipa_non_toxic\n",
       "13318   ipa_non_toxic        other  ipa_non_toxic\n",
       "13319   ipa_non_toxic        child  ipa_non_toxic\n",
       "13320   ipa_non_toxic          man  ipa_non_toxic\n",
       "\n",
       "[13321 rows x 3 columns]"
      ]
     },
     "execution_count": 18,
     "metadata": {},
     "output_type": "execute_result"
    }
   ],
   "source": [
    "df['true'] = ['ipa_non_toxic']*len(df)\n",
    "df"
   ]
  },
  {
   "cell_type": "code",
   "execution_count": 23,
   "metadata": {},
   "outputs": [
    {
     "name": "stdout",
     "output_type": "stream",
     "text": [
      "                precision    recall  f1-score   support\n",
      "\n",
      " ipa_non_toxic       1.00      0.93      0.96     13321\n",
      "original_toxic       0.00      0.00      0.00         0\n",
      "\n",
      "      accuracy                           0.93     13321\n",
      "     macro avg       0.50      0.47      0.48     13321\n",
      "  weighted avg       1.00      0.93      0.96     13321\n",
      "\n"
     ]
    },
    {
     "name": "stderr",
     "output_type": "stream",
     "text": [
      "/Library/Frameworks/Python.framework/Versions/3.10/lib/python3.10/site-packages/sklearn/metrics/_classification.py:1327: UndefinedMetricWarning: Recall and F-score are ill-defined and being set to 0.0 in labels with no true samples. Use `zero_division` parameter to control this behavior.\n",
      "  _warn_prf(average, modifier, msg_start, len(result))\n",
      "/Library/Frameworks/Python.framework/Versions/3.10/lib/python3.10/site-packages/sklearn/metrics/_classification.py:1327: UndefinedMetricWarning: Recall and F-score are ill-defined and being set to 0.0 in labels with no true samples. Use `zero_division` parameter to control this behavior.\n",
      "  _warn_prf(average, modifier, msg_start, len(result))\n",
      "/Library/Frameworks/Python.framework/Versions/3.10/lib/python3.10/site-packages/sklearn/metrics/_classification.py:1327: UndefinedMetricWarning: Recall and F-score are ill-defined and being set to 0.0 in labels with no true samples. Use `zero_division` parameter to control this behavior.\n",
      "  _warn_prf(average, modifier, msg_start, len(result))\n"
     ]
    }
   ],
   "source": [
    "from sklearn.metrics import classification_report\n",
    "y_true=list(df.true)\n",
    "y_pred=list(df.who_wins_1)\n",
    "#target_names=list(set(df.target_group.values))\n",
    "#target_names = list(set(df.who_wins_1.values))\n",
    "print(classification_report(y_true=y_true,y_pred=y_pred))"
   ]
  },
  {
   "cell_type": "code",
   "execution_count": null,
   "metadata": {},
   "outputs": [],
   "source": []
  },
  {
   "cell_type": "code",
   "execution_count": 20,
   "metadata": {},
   "outputs": [],
   "source": [
    "df_plot = df[['who_wins_1','target_group']]\n"
   ]
  },
  {
   "cell_type": "code",
   "execution_count": null,
   "metadata": {},
   "outputs": [],
   "source": []
  },
  {
   "cell_type": "code",
   "execution_count": null,
   "metadata": {},
   "outputs": [],
   "source": []
  }
 ],
 "metadata": {
  "interpreter": {
   "hash": "aee8b7b246df8f9039afb4144a1f6fd8d2ca17a180786b69acc140d282b71a49"
  },
  "kernelspec": {
   "display_name": "Python 3.10.4 64-bit",
   "language": "python",
   "name": "python3"
  },
  "language_info": {
   "codemirror_mode": {
    "name": "ipython",
    "version": 3
   },
   "file_extension": ".py",
   "mimetype": "text/x-python",
   "name": "python",
   "nbconvert_exporter": "python",
   "pygments_lexer": "ipython3",
   "version": "3.10.4"
  },
  "orig_nbformat": 4
 },
 "nbformat": 4,
 "nbformat_minor": 2
}
