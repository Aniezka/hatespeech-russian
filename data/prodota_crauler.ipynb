{
 "cells": [
  {
   "cell_type": "code",
   "execution_count": 1,
   "metadata": {},
   "outputs": [],
   "source": [
    "import re\n",
    "import requests\n",
    "import time\n",
    "import pandas as pd\n",
    "from bs4 import BeautifulSoup\n",
    "from tqdm.auto import tqdm"
   ]
  },
  {
   "cell_type": "code",
   "execution_count": 2,
   "metadata": {},
   "outputs": [],
   "source": [
    "topics_params = {    \n",
    "                213960: 303, 214534: 93, 218669: 1006,\n",
    "                218775: 999, 220708: 996, 220716: 992, \n",
    "                217612: 896, 216127: 871, 218207: 870,\n",
    "                220172: 869, 216526: 771, 215199: 771, \n",
    "                220574: 749, 210668: 742, 209857: 739,\n",
    "                217336: 734, 218957: 697, 156892: 369,\n",
    "                215962: 676, 212651: 630, 211573: 763,\n",
    "                218458: 2322, 210667: 669, 217393: 1040, \n",
    "                218082: 1009, 210495: 534, 214915: 530,\n",
    "                204354: 529, 214493: 523, \n",
    "                222196: 2, 216840: 181, 222005: 126,\n",
    "                215736: 130, 215184: 144, 215967: 419, 214282: 369,\n",
    "                213224: 344, 215305: 490, 212248: 424, 215124: 262, 211629: 925,\n",
    "                210753: 754, 214918: 729, 215491: 729, 188351: 676, 213296: 666,\n",
    "                181554: 696, 219717: 662,  166276: 423,  218047: 1270, 218707: 1588\n",
    "}"
   ]
  },
  {
   "cell_type": "code",
   "execution_count": 3,
   "metadata": {},
   "outputs": [],
   "source": [
    "def find_soup(i, topic):\n",
    "    try:\n",
    "        URL = f\"https://prodota.ru/forum/topic/{topic}/page/{i}/\"\n",
    "        page = requests.get(URL, verify=False)\n",
    "        soup = BeautifulSoup(page.content, \"html.parser\")\n",
    "        \n",
    "    except requests.exceptions.ConnectionError:\n",
    "        requests.status_code = \"Connection refused\"\n",
    "    \n",
    "    return soup\n",
    "\n",
    "\n",
    "def find_replics(elements):\n",
    "    reps1 = []\n",
    "    reps2 = []\n",
    "    for x in elements:\n",
    "        with_cit = x.find(\"div\", {\"class\": \"ipsQuote_contents\"})\n",
    "        if with_cit:\n",
    "            \n",
    "            trash_classes = with_cit.find('blockquote',class_='ipsQuote')\n",
    "\n",
    "            if trash_classes is not None:\n",
    "                trash_classes.decompose()\n",
    "            \n",
    "            replica_1_list = with_cit.find_all('p')\n",
    "\n",
    "            replica_1 = ' '.join([el.get_text() for el in replica_1_list])\n",
    "\n",
    "        \n",
    "            cur_text = x.find(\"div\", {\"class\": \"ipsType_normal ipsType_richText ipsContained\"})\n",
    "            if cur_text:\n",
    "\n",
    "                quote_class_comment = cur_text.find('blockquote',class_='ipsQuote')\n",
    "                if quote_class_comment is not None:\n",
    "                     quote_class_comment.decompose()\n",
    "\n",
    "                replica_2_list = cur_text.find_all('p')\n",
    "                replica_2 = ' '.join([el.get_text() for el in replica_2_list])\n",
    "\n",
    "                if replica_2 and replica_1:\n",
    "                    reps1.append(replica_1)\n",
    "                    reps2.append(replica_2) \n",
    "    \n",
    "\n",
    "    return reps1, reps2"
   ]
  },
  {
   "cell_type": "code",
   "execution_count": 4,
   "metadata": {},
   "outputs": [],
   "source": [
    "import warnings\n",
    "warnings.filterwarnings(\"ignore\")"
   ]
  },
  {
   "cell_type": "code",
   "execution_count": 5,
   "metadata": {},
   "outputs": [
    {
     "data": {
      "application/vnd.jupyter.widget-view+json": {
       "model_id": "15b03934144e4567a51522e25fff7cb9",
       "version_major": 2,
       "version_minor": 0
      },
      "text/plain": [
       "HBox(children=(FloatProgress(value=0.0, max=4.0), HTML(value='')))"
      ]
     },
     "metadata": {},
     "output_type": "display_data"
    },
    {
     "data": {
      "application/vnd.jupyter.widget-view+json": {
       "model_id": "187ca8565ccc41eca0d6c28d2ea9606c",
       "version_major": 2,
       "version_minor": 0
      },
      "text/plain": [
       "HBox(children=(FloatProgress(value=0.0, max=2322.0), HTML(value='')))"
      ]
     },
     "metadata": {},
     "output_type": "display_data"
    },
    {
     "name": "stdout",
     "output_type": "stream",
     "text": [
      "\n",
      "                                               Реплика 1  \\\n",
      "0      \\n\\t\\t\\tна первой еб патч гавно спасибо \\n\\t\\t...   \n",
      "1      \\n \\n \\n\\n \\n\\t\\t\\tЭто должно быть на первой\\n...   \n",
      "2       \\n\\t\\t\\t \\n\\t\\t \\n\\t\\t\\tпервый и на первой\\n\\t\\t   \n",
      "3      \\n\\t\\t\\tна первой еб патч гавно спасибо \\n\\t\\t...   \n",
      "4      \\n \\n \\n\\n \\n\\t\\t\\tЭто должно быть на первой\\n...   \n",
      "...                                                  ...   \n",
      "10058                                               \\n\\n   \n",
      "10059  \\n\\t\\t\\tну объективно мк параша в мид\\n\\t\\t \\n...   \n",
      "10060            \\n\\t\\t\\tоткуда деньги рассказывай\\n\\t\\t   \n",
      "10061  \\n\\n\\t\\t\\tabsolute in doubt🙄😵\\n \\n\\t\\t\\t \\n\\t\\...   \n",
      "10062                    \\n@Ember_Xinit че катанём\\n\\t\\t   \n",
      "\n",
      "                                               Реплика 2  \n",
      "0        \\n\\tЯ ТВОЮ МАТЬ НАХУЙ СОЖРУ ДОЛБОЕБ НИКЧЕМНЫЙ\\n  \n",
      "1      \\n\\tРЕБЯТ ВЫ ДИБИЛЫ? ВАНЬКА СКАЗАЛ ОНЛИ РАЗГОВ...  \n",
      "2      \\n\\tтак это не тема про стримы и все этого \\n ...  \n",
      "3        \\n\\tЯ ТВОЮ МАТЬ НАХУЙ СОЖРУ ДОЛБОЕБ НИКЧЕМНЫЙ\\n  \n",
      "4      \\n\\tРЕБЯТ ВЫ ДИБИЛЫ? ВАНЬКА СКАЗАЛ ОНЛИ РАЗГОВ...  \n",
      "...                                                  ...  \n",
      "10058              \\n\\tАхахаахахаахахаххаахахаха харош\\n  \n",
      "10059  \\n\\tа против какого милишника лина это не дела...  \n",
      "10060                      \\n\\tкапчу за доллар ввожу. \\n  \n",
      "10061                       \\n\\t \\n \\n\\tбэнгин йор мам\\n  \n",
      "10062  \\n\\tПривет еще тут ? давай если будеш а на ком...  \n",
      "\n",
      "[10063 rows x 2 columns]\n"
     ]
    },
    {
     "data": {
      "application/vnd.jupyter.widget-view+json": {
       "model_id": "969cfbcd1470414a8b36f3b0182e7b80",
       "version_major": 2,
       "version_minor": 0
      },
      "text/plain": [
       "HBox(children=(FloatProgress(value=0.0, max=669.0), HTML(value='')))"
      ]
     },
     "metadata": {},
     "output_type": "display_data"
    },
    {
     "name": "stdout",
     "output_type": "stream",
     "text": [
      "\n",
      "                                             Реплика 1  \\\n",
      "0    \\npOJARNEK.Ставлю два отарика в доте из двух.\\...   \n",
      "1    \\npOJARNEK.Ставлю два отарика в доте из двух.\\...   \n",
      "2    \\npOJARNEK.Ставлю два отарика в доте из двух.\\...   \n",
      "3    \\npOJARNEK.Ставлю два отарика в доте из двух.\\...   \n",
      "4    \\npOJARNEK.Ставлю два отарика в доте из двух.\\...   \n",
      "..                                                 ...   \n",
      "510  \\n\\t\\t\\tНе играл в прошлый лабиринт аганима, е...   \n",
      "511  \\n\\t\\t\\tПривет сегодня на доверии приобрел меч...   \n",
      "512  \\n\\t\\t\\tПривет сегодня на доверии приобрел меч...   \n",
      "513         \\n\\t\\t\\tпроценты гаранту не забываем\\n\\t\\t   \n",
      "514  \\n\\t\\t\\tПродам аркейн на Джагера. 1500 рубчинс...   \n",
      "\n",
      "                                             Реплика 2  \n",
      "0         Продам вот такую хуевину предпочтительно ...  \n",
      "1                                            трейдебл   \n",
      "2    меч на свена за 0.65 отдать готов если кому ин...  \n",
      "3    есть тут скупщики 0.7?  тот акк с мечом на све...  \n",
      "4    Продаётся акк с 19к маркет велью с кд трейда н...  \n",
      "..                                                 ...  \n",
      "510                           \\n\\tсиклу ботинки дали\\n  \n",
      "511                              \\n\\tсарказм надеюсь\\n  \n",
      "512  \\n\\tв следующий раз не забываем за гаранта @ЖУ...  \n",
      "513                                  \\n\\tты жива еще\\n  \n",
      "514                     \\n\\tмаска на алхимика почем?\\n  \n",
      "\n",
      "[515 rows x 2 columns]\n"
     ]
    },
    {
     "data": {
      "application/vnd.jupyter.widget-view+json": {
       "model_id": "293964295b96454695b713bba7471257",
       "version_major": 2,
       "version_minor": 0
      },
      "text/plain": [
       "HBox(children=(FloatProgress(value=0.0, max=1040.0), HTML(value='')))"
      ]
     },
     "metadata": {},
     "output_type": "display_data"
    },
    {
     "name": "stdout",
     "output_type": "stream",
     "text": [
      "\n",
      "                                              Реплика 1  \\\n",
      "0     \\n\\t\\t\\t\\tя думал на земле нет таких людей кот...   \n",
      "1     \\n\\t\\t\\t\\tя думал на земле нет таких людей кот...   \n",
      "2     \\n  у меня турбачи ищутся минут 20-30 как эту ...   \n",
      "3     \\n\\t\\t\\t\\tя думал на земле нет таких людей кот...   \n",
      "4     \\n\\t\\t\\tмамуууууууууууууууууу ебаллллллллллллл...   \n",
      "...                                                 ...   \n",
      "2834  \\n\\t\\t\\tфармат о чем с девочками говорить посо...   \n",
      "2835  \\n\\t\\t\\tПродам акк 6170\\n\\t\\t \\n\\t\\t\\tбихевойр...   \n",
      "2836  \\n\\t\\t\\tа ты гарантию даешь что их не спиздят?...   \n",
      "2837                       \\n\\t\\t\\tЯ черная мамба\\n\\t\\t   \n",
      "2838  \\n\\t\\t\\tмне покусала яица твоя никчемная мама\\...   \n",
      "\n",
      "                                              Реплика 2  \n",
      "0     \\n\\tмамуууууууууууууууууу ебаллллллллллллллллл...  \n",
      "1     \\n\\tмамуууууууууууууууууу ебаллллллллллллллллл...  \n",
      "2     \\n\\tНу если ещё работает, то посмотри нескольк...  \n",
      "3                                                    \\n  \n",
      "4     \\n\\tна форуме дотеров вообще не должно быть мо...  \n",
      "...                                                 ...  \n",
      "2834  \\n\\tпро то в чем разбираешься разговаривай Ind...  \n",
      "2835       \\n\\tа ты гарантию даешь что их не спиздят?\\n  \n",
      "2836  \\n\\t \\n \\n\\tЯ их купил 3 месяца назад у 2012-2...  \n",
      "2837        \\n\\tмне покусала яица твоя никчемная мама\\n  \n",
      "2838                                         \\n\\tСоси\\n  \n",
      "\n",
      "[2839 rows x 2 columns]\n"
     ]
    },
    {
     "data": {
      "application/vnd.jupyter.widget-view+json": {
       "model_id": "61cf0012f2254879aa978717007b3a22",
       "version_major": 2,
       "version_minor": 0
      },
      "text/plain": [
       "HBox(children=(FloatProgress(value=0.0, max=1009.0), HTML(value='')))"
      ]
     },
     "metadata": {},
     "output_type": "display_data"
    },
    {
     "name": "stdout",
     "output_type": "stream",
     "text": [
      "\n",
      "                                              Реплика 1  \\\n",
      "0     \\n\\t\\t\\t \\n\\t\\t \\n\\n\\t\\t\\tИгроки, ранее выступ...   \n",
      "1     \\n\\t\\t\\tПерспективно. Но их постигнет судьба В...   \n",
      "2          \\n\\t\\t\\tНа первой у будущих победителей инта   \n",
      "3     \\n\\t\\t\\tВПполар стали основным составом ВП с м...   \n",
      "4     \\n\\t\\t\\t \\n\\t\\t \\n\\n\\t\\t\\tИгроки, ранее выступ...   \n",
      "...                                                 ...   \n",
      "7761  \\n\\t\\t\\tБудь ты здравомыслящим человеком, ты б...   \n",
      "7762  \\n\\t\\t\\tВаня не был первым претендентом на рол...   \n",
      "7763  \\n\\t\\t\\tОчень мощнo, так кто был их первым выб...   \n",
      "7764              \\n\\t\\t\\tграц нави с топ-2 снг-помойки   \n",
      "7765  \\n\\t\\t\\tиграл щас в пабе с челом, он сказал, ч...   \n",
      "\n",
      "                                              Реплика 2  \n",
      "0     \\n \\n \\n«Молодой Одаренный Человек»\\n \\n\\t \\n ...  \n",
      "1     \\n\\tВПполар стали основным составом ВП с миним...  \n",
      "2                                               \\n\\t \\n  \n",
      "3     \\n\\tПриятно познакомиться дебил, но я вообще т...  \n",
      "4     \\n \\n \\n«Молодой Одаренный Человек»\\n \\n\\t \\n ...  \n",
      "...                                                 ...  \n",
      "7761                  \\n\\tграц нави с топ-2 снг-помойки  \n",
      "7762  \\n\\tОчень мощнo, так кто был их первым выбором...  \n",
      "7763  \\n\\tАдекватный чел судя по интервью.\\n \\n@NeGl...  \n",
      "7764    \\n\\tЯ в Империю больше верю, чем в НаВи, лол.\\n  \n",
      "7765  \\n\\tебать получается инфа была стопроц правдив...  \n",
      "\n",
      "[7766 rows x 2 columns]\n",
      "\n"
     ]
    }
   ],
   "source": [
    "for k, v in tqdm(topics_params.items()):\n",
    "    data = pd.DataFrame(columns = ['Реплика 1', 'Реплика 2'])\n",
    "    for i in tqdm(range(v)):\n",
    "        try:\n",
    "            soup = find_soup(i, k)\n",
    "            elements = soup.find_all(\"div\", {\"class\": \"cPost_contentWrap ipsPad\"})  \n",
    "            replica_1, replica_2 = find_replics(elements)\n",
    "            for replics1, replics2 in zip(replica_1, replica_2):\n",
    "\n",
    "                data = data.append({'Реплика 1': replics1, 'Реплика 2': replics2},  ignore_index=True)\n",
    "        except:\n",
    "            pass\n",
    "    \n",
    "    print(data)\n",
    "\n",
    "    data.to_csv(f'dota{k}.csv', index=False)\n"
   ]
  },
  {
   "cell_type": "code",
   "execution_count": null,
   "metadata": {},
   "outputs": [],
   "source": []
  }
 ],
 "metadata": {
  "kernelspec": {
   "display_name": "Python 3",
   "language": "python",
   "name": "python3"
  },
  "language_info": {
   "codemirror_mode": {
    "name": "ipython",
    "version": 3
   },
   "file_extension": ".py",
   "mimetype": "text/x-python",
   "name": "python",
   "nbconvert_exporter": "python",
   "pygments_lexer": "ipython3",
   "version": "3.7.7"
  }
 },
 "nbformat": 4,
 "nbformat_minor": 4
}
