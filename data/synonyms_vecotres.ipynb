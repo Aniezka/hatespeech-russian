{
  "cells": [
    {
      "cell_type": "code",
      "execution_count": null,
      "metadata": {
        "colab": {
          "base_uri": "https://localhost:8080/"
        },
        "id": "TjNDH9o-eqZx",
        "outputId": "228d2948-a525-4751-ff34-c48c24bb0779"
      },
      "outputs": [
        {
          "name": "stdout",
          "output_type": "stream",
          "text": [
            "--2022-02-21 21:53:42--  http://vectors.nlpl.eu/repository/20/180.zip\n",
            "Resolving vectors.nlpl.eu (vectors.nlpl.eu)... 129.240.189.181\n",
            "Connecting to vectors.nlpl.eu (vectors.nlpl.eu)|129.240.189.181|:80... connected.\n",
            "HTTP request sent, awaiting response... 200 OK\n",
            "Length: 484452317 (462M) [application/zip]\n",
            "Saving to: ‘180.zip’\n",
            "\n",
            "180.zip             100%[===================>] 462.01M  17.5MB/s    in 28s     \n",
            "\n",
            "2022-02-21 21:54:11 (16.7 MB/s) - ‘180.zip’ saved [484452317/484452317]\n",
            "\n",
            "Archive:  180.zip\n",
            "  inflating: meta.json               \n",
            "  inflating: model.bin               \n",
            "  inflating: model.txt               \n",
            "  inflating: README                  \n"
          ]
        }
      ],
      "source": [
        "!wget -c http://vectors.nlpl.eu/repository/20/180.zip\n",
        "!unzip 180.zip"
      ]
    },
    {
      "cell_type": "code",
      "execution_count": null,
      "metadata": {
        "id": "qWBLzcJMRrFd"
      },
      "outputs": [],
      "source": [
        "import gensim\n",
        "\n",
        "\n",
        "model = gensim.models.KeyedVectors.load_word2vec_format(\"model.bin\", binary=True)\n",
        "model.init_sims(replace=True)"
      ]
    },
    {
      "cell_type": "code",
      "execution_count": null,
      "metadata": {
        "id": "M8G3S759SOv-"
      },
      "outputs": [],
      "source": [
        "from rnnmorph.predictor import RNNMorphPredictor\n",
        "predictor = RNNMorphPredictor(language=\"ru\")"
      ]
    },
    {
      "cell_type": "code",
      "execution_count": null,
      "metadata": {
        "id": "-mLxEHy7YQ1_"
      },
      "outputs": [],
      "source": [
        "import pymorphy2\n",
        "morph = pymorphy2.MorphAnalyzer()"
      ]
    },
    {
      "cell_type": "code",
      "execution_count": null,
      "metadata": {
        "id": "c9Zv41NRRtnG"
      },
      "outputs": [],
      "source": [
        "# теггер с universal tags\n",
        "\n",
        "def synon_word2vec(words, model=model):\n",
        "    \n",
        "    new_list = []\n",
        "    wrd_n = predictor.predict(words)\n",
        "    for word in wrd_n:\n",
        "        i = str(word.normal_form) + '_' + str(word.pos)\n",
        "        if i in model:\n",
        "            wrd = model.most_similar(i)\n",
        "            for s_word in wrd[:3]:\n",
        "                # семантические ассоциаты маркируются одним тегом\n",
        "                if str(s_word[0].split('_')[1]) == str(word.pos):\n",
        "                    if predictor.predict([str(s_word[0].split('_')[0])])[0].tag == word.tag:\n",
        "                        change_word = s_word[0].split('_')[0]\n",
        "                        new_list.append(change_word)\n",
        "    return new_list"
      ]
    },
    {
      "cell_type": "code",
      "execution_count": null,
      "metadata": {
        "id": "LrhziV3hSYaD"
      },
      "outputs": [],
      "source": [
        "women = ['сука', 'шлюха', 'путана', 'проститутка', 'скотобаза', 'долбоебина', 'долбоебка', 'шмара', 'ублюдка', 'хуесоска', 'потаскуха', 'блядунья', 'скотоебина', 'целка', 'блядюга', 'пиздушка', 'гадина', 'пиздаболка', 'курва', 'блядина', 'блядь', 'дебилоидка', 'уродина', 'мохнатка', 'шалашовка', 'подзаборница', 'дура', 'идиотка', 'педиковна', 'сельдь', 'спермоприёмница', 'беременяжка', 'беременяiка', 'яжмать', 'лярва', 'блондинка', 'пизда', 'бабища', 'дурочка', 'мразь', 'подлюга', 'сволочь', 'стерва', 'лахудра', 'мымра', 'чмошница', 'бабье', 'баруха', 'блядво', 'блядище', 'блядюра', 'блядистка', 'рсп', 'шалава', 'разведенка']\n",
        "lgbt = ['гомик', 'пидор', 'пидрила', 'заднеприводный', 'пидорок', 'жопник', 'трансуха', 'транс', 'лезбуха', 'лесбуха', 'лесбуха', 'лесба', 'лезба', 'трансформер', 'дырявый', 'ковырялка', 'содомит', 'трансошлюха', 'педераст', 'петух', 'блядьмо']\n",
        "migrants = ['чурка', 'чероножопый', 'хач', 'обезьяна', 'джамшут']\n",
        "men = ['пидорас','долбоеб', 'хуесос', 'мудила', 'еблан', 'гандон', 'гондон', 'уебок', 'распиздяй', 'пиздюлевич', 'гандонович',  'ебанатик', 'потаскун', 'мудотяп', 'подонок', 'хуило', 'хуйло', 'кривохуй', 'пиздонович', 'блядун', 'пердун', 'пиздабол', 'хуерик', 'засерун', 'дебилоид', 'урод', 'хуеплет', 'пиздокрыл', 'ебырь', 'ебарь', 'блядович', 'объебщик', 'мудень', 'ебанат', 'пиздализ',  'дебил', 'мудак', 'придурок', 'ебанько', 'чмошник', 'ебасос', 'блядолиз', 'страхоебище', 'сыкун', 'сcыкун', 'обмудок', 'кукколд', 'куколд', 'альфач', 'пиздолиз', 'хер', 'дрищ', 'мужло', 'алкаш', 'идиот', 'кретин', 'мерзавец', 'уродец', 'хрыч', 'спермобак']\n",
        "colour = ['черножопый',  'нигга', 'узкоглазый',  'азиатоблядь']\n",
        "native = ['пендос', 'укроп', 'русня', 'москаль', 'хохол', 'макака', 'деревенщина', 'жид', 'орео', 'кокос']\n",
        "kids = ['ублюдок', 'ебанатик', 'хуеныш', 'говнюк', 'выблядок', 'пиздюк', 'школота',  'щкильник', 'пиздючка', 'выродок', 'ушлепок', 'спиногрыз', 'личинус', 'приемыш']"
      ]
    },
    {
      "cell_type": "code",
      "execution_count": null,
      "metadata": {
        "id": "eTbp5h8YTUuA"
      },
      "outputs": [],
      "source": [
        "current_lists = [women, lgbt, migrants, men, colour, native, kids]\n",
        "\n",
        "women_1 = list(set(synon_word2vec(women, model=model)))\n",
        "lgbt_1 = list(set(synon_word2vec(lgbt, model=model)))\n",
        "migrants_1 = list(set(synon_word2vec(migrants, model=model)))\n",
        "men_1 = list(set(synon_word2vec(men, model=model)))\n",
        "colour_1 = list(set(synon_word2vec(colour, model=model)))\n",
        "native_1 = list(set(synon_word2vec(native, model=model)))\n",
        "kids_1 = list(set(synon_word2vec(kids, model=model)))"
      ]
    },
    {
      "cell_type": "code",
      "execution_count": null,
      "metadata": {
        "colab": {
          "base_uri": "https://localhost:8080/"
        },
        "id": "2L6SkbQgdSU0",
        "outputId": "27059d9e-ded2-4515-bc39-d8a19f87bfa4"
      },
      "outputs": [
        {
          "data": {
            "text/plain": [
              "{'бабища',\n",
              " 'дурочка',\n",
              " 'красотка',\n",
              " 'мразь',\n",
              " 'подлюга',\n",
              " 'рыба',\n",
              " 'сволочь',\n",
              " 'семга',\n",
              " 'стерва',\n",
              " 'укротительница'}"
            ]
          },
          "execution_count": 157,
          "metadata": {},
          "output_type": "execute_result"
        }
      ],
      "source": [
        "set(women_1) - set(women)"
      ]
    },
    {
      "cell_type": "code",
      "execution_count": null,
      "metadata": {
        "colab": {
          "base_uri": "https://localhost:8080/"
        },
        "id": "KDwTdjDEdjg_",
        "outputId": "566de6f9-ff1e-4736-8267-53df905be85b"
      },
      "outputs": [
        {
          "data": {
            "text/plain": [
              "['хер']"
            ]
          },
          "execution_count": 149,
          "metadata": {},
          "output_type": "execute_result"
        }
      ],
      "source": [
        "lgbt_1"
      ]
    },
    {
      "cell_type": "code",
      "execution_count": null,
      "metadata": {
        "colab": {
          "base_uri": "https://localhost:8080/"
        },
        "id": "Raqehmnpdvar",
        "outputId": "566a44c5-eaaa-4289-a74a-94adda253abd"
      },
      "outputs": [
        {
          "data": {
            "text/plain": [
              "[]"
            ]
          },
          "execution_count": 150,
          "metadata": {},
          "output_type": "execute_result"
        }
      ],
      "source": [
        "migrants_1"
      ]
    },
    {
      "cell_type": "code",
      "execution_count": null,
      "metadata": {
        "colab": {
          "base_uri": "https://localhost:8080/"
        },
        "id": "AptCgf1vdx3z",
        "outputId": "49b0538c-af11-4991-86eb-6e2582023cf9"
      },
      "outputs": [
        {
          "data": {
            "text/plain": [
              "['придурок',\n",
              " 'идиот',\n",
              " 'хрыч',\n",
              " 'кретин',\n",
              " 'фраер',\n",
              " 'алкаш',\n",
              " 'уродец',\n",
              " 'негодяй',\n",
              " 'мерзавец',\n",
              " 'чувак',\n",
              " 'мент']"
            ]
          },
          "execution_count": 151,
          "metadata": {},
          "output_type": "execute_result"
        }
      ],
      "source": [
        "men_1"
      ]
    },
    {
      "cell_type": "code",
      "execution_count": null,
      "metadata": {
        "colab": {
          "base_uri": "https://localhost:8080/"
        },
        "id": "U-GL9pOefZGw",
        "outputId": "e1b641aa-bb9b-4a6e-fdec-4a09b7e70db7"
      },
      "outputs": [
        {
          "data": {
            "text/plain": [
              "{'алкаш',\n",
              " 'идиот',\n",
              " 'кретин',\n",
              " 'мент',\n",
              " 'мерзавец',\n",
              " 'негодяй',\n",
              " 'уродец',\n",
              " 'фраер',\n",
              " 'хрыч',\n",
              " 'чувак'}"
            ]
          },
          "execution_count": 158,
          "metadata": {},
          "output_type": "execute_result"
        }
      ],
      "source": [
        "set(men_1) - set(men)"
      ]
    },
    {
      "cell_type": "code",
      "execution_count": null,
      "metadata": {
        "colab": {
          "base_uri": "https://localhost:8080/"
        },
        "id": "QBXakSIDdywT",
        "outputId": "f1ccc4c7-0592-4b86-e9c7-894c28dab6b8"
      },
      "outputs": [
        {
          "data": {
            "text/plain": [
              "['скуластый', 'косоглазый', 'чернявый']"
            ]
          },
          "execution_count": 152,
          "metadata": {},
          "output_type": "execute_result"
        }
      ],
      "source": [
        "colour_1"
      ]
    },
    {
      "cell_type": "code",
      "execution_count": null,
      "metadata": {
        "colab": {
          "base_uri": "https://localhost:8080/"
        },
        "id": "7I7dFiNvd4NL",
        "outputId": "060f5a67-a53c-48bc-f100-4913b5748745"
      },
      "outputs": [
        {
          "data": {
            "text/plain": [
              "['банан', 'поляк', 'финик', 'москаль', 'русин']"
            ]
          },
          "execution_count": 155,
          "metadata": {},
          "output_type": "execute_result"
        }
      ],
      "source": [
        "native_1"
      ]
    },
    {
      "cell_type": "code",
      "execution_count": null,
      "metadata": {
        "colab": {
          "base_uri": "https://localhost:8080/"
        },
        "id": "Vpo1yET5f5bt",
        "outputId": "82d64104-0c74-4453-b2f2-28b121db08df"
      },
      "outputs": [
        {
          "data": {
            "text/plain": [
              "{'банан', 'поляк', 'русин', 'финик'}"
            ]
          },
          "execution_count": 159,
          "metadata": {},
          "output_type": "execute_result"
        }
      ],
      "source": [
        "set(native_1) - set(native)"
      ]
    },
    {
      "cell_type": "code",
      "execution_count": null,
      "metadata": {
        "colab": {
          "base_uri": "https://localhost:8080/"
        },
        "id": "Tn1rfqIyd6eU",
        "outputId": "fead2fbe-d621-403f-9619-59e91f1bf787"
      },
      "outputs": [
        {
          "data": {
            "text/plain": [
              "['выродок', 'балбес']"
            ]
          },
          "execution_count": 156,
          "metadata": {},
          "output_type": "execute_result"
        }
      ],
      "source": [
        "kids_1"
      ]
    }
  ],
  "metadata": {
    "colab": {
      "name": "Untitled0.ipynb",
      "provenance": []
    },
    "kernelspec": {
      "display_name": "Python 3",
      "name": "python3"
    },
    "language_info": {
      "name": "python"
    }
  },
  "nbformat": 4,
  "nbformat_minor": 0
}
