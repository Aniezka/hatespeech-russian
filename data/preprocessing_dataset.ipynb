{
 "cells": [
  {
   "cell_type": "code",
   "execution_count": 9,
   "metadata": {},
   "outputs": [
    {
     "name": "stdout",
     "output_type": "stream",
     "text": [
      "Collecting autocorrect\n",
      "  Downloading autocorrect-2.6.1.tar.gz (622 kB)\n",
      "\u001b[K     |████████████████████████████████| 622 kB 1.1 MB/s eta 0:00:01\n",
      "\u001b[?25hBuilding wheels for collected packages: autocorrect\n",
      "  Building wheel for autocorrect (setup.py) ... \u001b[?25ldone\n",
      "\u001b[?25h  Created wheel for autocorrect: filename=autocorrect-2.6.1-py3-none-any.whl size=622380 sha256=759951be7f354ed0921b53ceb161aba9baeba6f49a2be129d1eaa6f3de3b9519\n",
      "  Stored in directory: /Users/Anna/Library/Caches/pip/wheels/54/d4/37/8244101ad50b0f7d9bffd93ce58ed7991ee1753b290923934b\n",
      "Successfully built autocorrect\n",
      "Installing collected packages: autocorrect\n",
      "Successfully installed autocorrect-2.6.1\n"
     ]
    }
   ],
   "source": [
    "#!pip install pyspellchecker\n",
    "#!pip install demoji\n",
    "!pip install autocorrect"
   ]
  },
  {
   "cell_type": "code",
   "execution_count": 10,
   "metadata": {},
   "outputs": [],
   "source": [
    "import pandas as pd\n",
    "\n",
    "data = pd.read_csv('1_dataset_concatenated.csv')"
   ]
  },
  {
   "cell_type": "code",
   "execution_count": 11,
   "metadata": {},
   "outputs": [
    {
     "data": {
      "text/html": [
       "<div>\n",
       "<style scoped>\n",
       "    .dataframe tbody tr th:only-of-type {\n",
       "        vertical-align: middle;\n",
       "    }\n",
       "\n",
       "    .dataframe tbody tr th {\n",
       "        vertical-align: top;\n",
       "    }\n",
       "\n",
       "    .dataframe thead th {\n",
       "        text-align: right;\n",
       "    }\n",
       "</style>\n",
       "<table border=\"1\" class=\"dataframe\">\n",
       "  <thead>\n",
       "    <tr style=\"text-align: right;\">\n",
       "      <th></th>\n",
       "      <th>Реплика 1</th>\n",
       "      <th>Реплика 2</th>\n",
       "    </tr>\n",
       "  </thead>\n",
       "  <tbody>\n",
       "    <tr>\n",
       "      <th>0</th>\n",
       "      <td>Рио Х в 2022 станет статусным кроссовером, не...</td>\n",
       "      <td>Так и сейчас они могут взять тот же самый хтр...</td>\n",
       "    </tr>\n",
       "    <tr>\n",
       "      <th>1</th>\n",
       "      <td>Для тех кто спрашивает что взять за лям или д...</td>\n",
       "      <td>В 2020м покупал гольфа за 28к евро, когда у ва...</td>\n",
       "    </tr>\n",
       "    <tr>\n",
       "      <th>2</th>\n",
       "      <td>В 2020м покупал гольфа за 28к евро, когда у ва...</td>\n",
       "      <td>Няма таго, што раньш было…(Я 2015 год вспомин...</td>\n",
       "    </tr>\n",
       "    <tr>\n",
       "      <th>3</th>\n",
       "      <td>В 2020м покупал гольфа за 28к евро, когда у ва...</td>\n",
       "      <td>А кстати что за гольф, какой двигатель и компл...</td>\n",
       "    </tr>\n",
       "    <tr>\n",
       "      <th>4</th>\n",
       "      <td>Можешь вообще на изи, просто не хочешь уже бо...</td>\n",
       "      <td>на машину нужно тратить не более 6 зарплат Кто...</td>\n",
       "    </tr>\n",
       "  </tbody>\n",
       "</table>\n",
       "</div>"
      ],
      "text/plain": [
       "                                           Реплика 1  \\\n",
       "0   Рио Х в 2022 станет статусным кроссовером, не...   \n",
       "1   Для тех кто спрашивает что взять за лям или д...   \n",
       "2  В 2020м покупал гольфа за 28к евро, когда у ва...   \n",
       "3  В 2020м покупал гольфа за 28к евро, когда у ва...   \n",
       "4   Можешь вообще на изи, просто не хочешь уже бо...   \n",
       "\n",
       "                                           Реплика 2  \n",
       "0   Так и сейчас они могут взять тот же самый хтр...  \n",
       "1  В 2020м покупал гольфа за 28к евро, когда у ва...  \n",
       "2   Няма таго, што раньш было…(Я 2015 год вспомин...  \n",
       "3  А кстати что за гольф, какой двигатель и компл...  \n",
       "4  на машину нужно тратить не более 6 зарплат Кто...  "
      ]
     },
     "execution_count": 11,
     "metadata": {},
     "output_type": "execute_result"
    }
   ],
   "source": [
    "data.head()"
   ]
  },
  {
   "cell_type": "code",
   "execution_count": 12,
   "metadata": {},
   "outputs": [
    {
     "data": {
      "text/plain": [
       "331279"
      ]
     },
     "execution_count": 12,
     "metadata": {},
     "output_type": "execute_result"
    }
   ],
   "source": [
    "len(data)"
   ]
  },
  {
   "cell_type": "code",
   "execution_count": 13,
   "metadata": {},
   "outputs": [],
   "source": [
    "import re\n",
    "import demoji\n",
    "from nltk.corpus import stopwords\n",
    "from autocorrect import Speller\n",
    "\n",
    "spell=Speller(lang=\"ru\")\n",
    "WORD = re.compile(r'\\w+')\n",
    "def reTokenize(doc):\n",
    "    tokens = WORD.findall(doc)\n",
    "    return tokens\n",
    "\n",
    "def spellchecker(text: str) -> str:\n",
    "    sptext = ' '.join([spell(w).lower() for w in reTokenize(text)])  \n",
    "    return sptext  \n",
    "\n",
    "def latin_cyrillic_tokens(text: str) -> str:\n",
    "    \"\"\"\n",
    "    Remove non-latin and non-cyrillic tokens (типо 'anschließend')\n",
    "    :param text: The text needed to be cleaned.\n",
    "    :return: Text without non-latin and non cyrillic tokens.\n",
    "    \"\"\"\n",
    "    tokens = text.split(\" \")\n",
    "    result_tokens = []\n",
    "    for token in tokens:\n",
    "        try:\n",
    "            token.encode(encoding=\"utf-8\").decode(encoding=\"ascii\")\n",
    "        except UnicodeDecodeError:\n",
    "            if bool(re.search(\"[а-яА-ЯёЁ]\", token)):\n",
    "                result_tokens.append(token)\n",
    "        else:\n",
    "            result_tokens.append(token)\n",
    "\n",
    "    result_text = \" \".join(result_tokens)\n",
    "    return result_text\n",
    "\n",
    "def remove_stopwords(text: str) -> str:\n",
    "    \"\"\"\n",
    "    Remove stopwords.\n",
    "    :param text: The text needed to be cleaned.\n",
    "    :return: Text without stopwords.\n",
    "    \"\"\"\n",
    "    russian_stopwords = stopwords.words(\"russian\")\n",
    "    russian_stopwords = [\n",
    "        word for word in russian_stopwords if word not in (\"не\", \"нет\", \"да\")\n",
    "    ]\n",
    "    tokens = [word for word in text.split(\" \") if word not in russian_stopwords]\n",
    "    text = \" \".join(tokens)\n",
    "    return text\n",
    "\n",
    "def clean_emoji(text: str) -> str:\n",
    "    \"\"\"\n",
    "    Remove emoji tags in the text.\n",
    "    :param text: The text needed to be cleaned.\n",
    "    :return: Cleaned text.\n",
    "    \"\"\"\n",
    "    emj_dict = demoji.findall(text)\n",
    "    for emj in emj_dict.keys():\n",
    "        try:\n",
    "            text = re.sub(emj, \"\", text)\n",
    "        except KeyError:\n",
    "            text = text.replace(emj, \"\")\n",
    "    emj_img = re.findall(f'(<img class=\"emoji\".*?alt=\"(.*?)\">)', text)\n",
    "    for img in emj_img:\n",
    "        text = text.replace(img[0], img[1])\n",
    "    return text\n",
    "\n",
    "def preprocessing(text: str) -> str:\n",
    "\n",
    "    # Make lowercase\n",
    "    text = text.lower()\n",
    "    \n",
    "    # Remove non-latin and non-cyrillic tokens.\n",
    "    text = latin_cyrillic_tokens(text)\n",
    "    \n",
    "    # Remove stopwords.\n",
    "    # text = remove_stopwords(text)\n",
    "    \n",
    "    # Remove numbers \n",
    "    text = re.sub(r\"\\d{1,}\", \" \", text)\n",
    "    \n",
    "    # Clean html tags\n",
    "    text = re.sub(\"(<.*?>)\", \" \", text)\n",
    "    text = re.sub('(«|»|\")', \" \", text)\n",
    "\n",
    "    # Remove URL tags \n",
    "    text = re.sub(\n",
    "        r\"((https?):((//)|(\\\\\\\\))+([<?>?\\w\\d:#@%/;$()~_?\\+-=\\\\\\.&…](#!)?)*)\",\n",
    "        \"\",\n",
    "        text,\n",
    "    )\n",
    "    text = re.sub(r\"\\b([\\w\\d/]+\\.)+[\\w\\d/]+\\b\", \"\", text)\n",
    "\n",
    "    # Clean text from emoji\n",
    "    text = clean_emoji(text)\n",
    "    \n",
    "    # Remove phone numbers\n",
    "    text = re.sub(\n",
    "        r\"[7,8]([-\\.\\s]*\\d{3}[-\\.\\s]*\\d{3}[-\\.\\s]*\\d{2}[-\\.\\s]*\\d{2})\", \" \", text\n",
    "    )\n",
    "    \n",
    "    # Delete repeating spaces\n",
    "    text = re.sub(\"\\s+\", \" \", text)\n",
    "#     for special_char in \".,!?$:\\/)(#'\\\"-_;:”\":\n",
    "#         text = re.sub(f\"\\{special_char}+\", special_char + \" \", text)\n",
    "\n",
    "    # Замена ё на е\n",
    "    text = text.replace('ё','е')\n",
    "    \n",
    "    # Spell checking\n",
    "    #text = spellchecker(text)\n",
    "    \n",
    "    return text"
   ]
  },
  {
   "cell_type": "code",
   "execution_count": 14,
   "metadata": {},
   "outputs": [
    {
     "name": "stdout",
     "output_type": "stream",
     "text": [
      "331279\n"
     ]
    },
    {
     "data": {
      "text/html": [
       "<div>\n",
       "<style scoped>\n",
       "    .dataframe tbody tr th:only-of-type {\n",
       "        vertical-align: middle;\n",
       "    }\n",
       "\n",
       "    .dataframe tbody tr th {\n",
       "        vertical-align: top;\n",
       "    }\n",
       "\n",
       "    .dataframe thead th {\n",
       "        text-align: right;\n",
       "    }\n",
       "</style>\n",
       "<table border=\"1\" class=\"dataframe\">\n",
       "  <thead>\n",
       "    <tr style=\"text-align: right;\">\n",
       "      <th></th>\n",
       "      <th>Реплика 1</th>\n",
       "      <th>Реплика 2</th>\n",
       "    </tr>\n",
       "  </thead>\n",
       "  <tbody>\n",
       "    <tr>\n",
       "      <th>0</th>\n",
       "      <td>Рио Х в 2022 станет статусным кроссовером, не...</td>\n",
       "      <td>Так и сейчас они могут взять тот же самый хтр...</td>\n",
       "    </tr>\n",
       "    <tr>\n",
       "      <th>1</th>\n",
       "      <td>Для тех кто спрашивает что взять за лям или д...</td>\n",
       "      <td>В 2020м покупал гольфа за 28к евро, когда у ва...</td>\n",
       "    </tr>\n",
       "    <tr>\n",
       "      <th>2</th>\n",
       "      <td>В 2020м покупал гольфа за 28к евро, когда у ва...</td>\n",
       "      <td>Няма таго, што раньш было…(Я 2015 год вспомин...</td>\n",
       "    </tr>\n",
       "    <tr>\n",
       "      <th>3</th>\n",
       "      <td>В 2020м покупал гольфа за 28к евро, когда у ва...</td>\n",
       "      <td>А кстати что за гольф, какой двигатель и компл...</td>\n",
       "    </tr>\n",
       "    <tr>\n",
       "      <th>4</th>\n",
       "      <td>Можешь вообще на изи, просто не хочешь уже бо...</td>\n",
       "      <td>на машину нужно тратить не более 6 зарплат Кто...</td>\n",
       "    </tr>\n",
       "  </tbody>\n",
       "</table>\n",
       "</div>"
      ],
      "text/plain": [
       "                                           Реплика 1  \\\n",
       "0   Рио Х в 2022 станет статусным кроссовером, не...   \n",
       "1   Для тех кто спрашивает что взять за лям или д...   \n",
       "2  В 2020м покупал гольфа за 28к евро, когда у ва...   \n",
       "3  В 2020м покупал гольфа за 28к евро, когда у ва...   \n",
       "4   Можешь вообще на изи, просто не хочешь уже бо...   \n",
       "\n",
       "                                           Реплика 2  \n",
       "0   Так и сейчас они могут взять тот же самый хтр...  \n",
       "1  В 2020м покупал гольфа за 28к евро, когда у ва...  \n",
       "2   Няма таго, што раньш было…(Я 2015 год вспомин...  \n",
       "3  А кстати что за гольф, какой двигатель и компл...  \n",
       "4  на машину нужно тратить не более 6 зарплат Кто...  "
      ]
     },
     "execution_count": 14,
     "metadata": {},
     "output_type": "execute_result"
    }
   ],
   "source": [
    "# remove NaN\n",
    "data = data.dropna()\n",
    "print(len(data))\n",
    "data.head(5)"
   ]
  },
  {
   "cell_type": "code",
   "execution_count": 15,
   "metadata": {},
   "outputs": [
    {
     "name": "stdout",
     "output_type": "stream",
     "text": [
      "331279\n"
     ]
    },
    {
     "data": {
      "text/html": [
       "<div>\n",
       "<style scoped>\n",
       "    .dataframe tbody tr th:only-of-type {\n",
       "        vertical-align: middle;\n",
       "    }\n",
       "\n",
       "    .dataframe tbody tr th {\n",
       "        vertical-align: top;\n",
       "    }\n",
       "\n",
       "    .dataframe thead th {\n",
       "        text-align: right;\n",
       "    }\n",
       "</style>\n",
       "<table border=\"1\" class=\"dataframe\">\n",
       "  <thead>\n",
       "    <tr style=\"text-align: right;\">\n",
       "      <th></th>\n",
       "      <th>Реплика 1</th>\n",
       "      <th>Реплика 2</th>\n",
       "    </tr>\n",
       "  </thead>\n",
       "  <tbody>\n",
       "    <tr>\n",
       "      <th>0</th>\n",
       "      <td>рио х в станет статусным кроссовером, недосту...</td>\n",
       "      <td>так и сейчас они могут взять тот же самый хтр...</td>\n",
       "    </tr>\n",
       "    <tr>\n",
       "      <th>1</th>\n",
       "      <td>для тех кто спрашивает что взять за лям или д...</td>\n",
       "      <td>в м покупал гольфа за к евро, когда у вас евро...</td>\n",
       "    </tr>\n",
       "    <tr>\n",
       "      <th>2</th>\n",
       "      <td>в м покупал гольфа за к евро, когда у вас евро...</td>\n",
       "      <td>няма таго, што раньш было…(я год вспоминаю и ...</td>\n",
       "    </tr>\n",
       "    <tr>\n",
       "      <th>3</th>\n",
       "      <td>в м покупал гольфа за к евро, когда у вас евро...</td>\n",
       "      <td>а кстати что за гольф, какой двигатель и компл...</td>\n",
       "    </tr>\n",
       "    <tr>\n",
       "      <th>4</th>\n",
       "      <td>можешь вообще на изи, просто не хочешь уже бо...</td>\n",
       "      <td>на машину нужно тратить не более зарплат кто т...</td>\n",
       "    </tr>\n",
       "  </tbody>\n",
       "</table>\n",
       "</div>"
      ],
      "text/plain": [
       "                                           Реплика 1  \\\n",
       "0   рио х в станет статусным кроссовером, недосту...   \n",
       "1   для тех кто спрашивает что взять за лям или д...   \n",
       "2  в м покупал гольфа за к евро, когда у вас евро...   \n",
       "3  в м покупал гольфа за к евро, когда у вас евро...   \n",
       "4   можешь вообще на изи, просто не хочешь уже бо...   \n",
       "\n",
       "                                           Реплика 2  \n",
       "0   так и сейчас они могут взять тот же самый хтр...  \n",
       "1  в м покупал гольфа за к евро, когда у вас евро...  \n",
       "2   няма таго, што раньш было…(я год вспоминаю и ...  \n",
       "3  а кстати что за гольф, какой двигатель и компл...  \n",
       "4  на машину нужно тратить не более зарплат кто т...  "
      ]
     },
     "execution_count": 15,
     "metadata": {},
     "output_type": "execute_result"
    }
   ],
   "source": [
    "data['Реплика 1'] = data['Реплика 1'].apply(\n",
    "                lambda text: preprocessing(text)\n",
    "            )\n",
    "\n",
    "data['Реплика 2'] = data['Реплика 2'].apply(\n",
    "                lambda text: preprocessing(text)\n",
    "            )\n",
    "\n",
    "print(len(data))\n",
    "data.head(5)"
   ]
  },
  {
   "cell_type": "code",
   "execution_count": 16,
   "metadata": {},
   "outputs": [],
   "source": [
    "data=data[(data['Реплика 1'].apply(lambda x: 25<len(str(x))<500) & (data['Реплика 1'].apply(lambda x: 25<len(str(x))<500)))]\n",
    "                                                                    "
   ]
  },
  {
   "cell_type": "code",
   "execution_count": 17,
   "metadata": {},
   "outputs": [
    {
     "data": {
      "text/plain": [
       "273698"
      ]
     },
     "execution_count": 17,
     "metadata": {},
     "output_type": "execute_result"
    }
   ],
   "source": [
    "len(data)"
   ]
  },
  {
   "cell_type": "code",
   "execution_count": 18,
   "metadata": {},
   "outputs": [],
   "source": [
    "data.to_csv('2_preprocessed_data.csv')"
   ]
  },
  {
   "cell_type": "code",
   "execution_count": 40,
   "metadata": {
    "scrolled": false
   },
   "outputs": [],
   "source": [
    "# texts_1 = list(data['Реплика 1'])\n",
    "# texts_2 = list(data['Реплика 2'])\n",
    "\n",
    "# for x in texts_1+texts_2:\n",
    "#     print(x,'\\n\\n', len(x))"
   ]
  },
  {
   "cell_type": "code",
   "execution_count": 24,
   "metadata": {},
   "outputs": [],
   "source": [
    "# from sklearn.feature_extraction.text import TfidfVectorizer\n",
    "\n",
    "# corpus = texts_1 + texts_2\n",
    "\n",
    "# vectorizer = TfidfVectorizer()\n",
    "# X = vectorizer.fit_transform(corpus)\n",
    "# vectorizer.get_feature_names()"
   ]
  },
  {
   "cell_type": "code",
   "execution_count": 7,
   "metadata": {},
   "outputs": [],
   "source": [
    "# names = vectorizer.get_feature_names()"
   ]
  },
  {
   "cell_type": "code",
   "execution_count": 38,
   "metadata": {},
   "outputs": [],
   "source": [
    "# duplicate_indxs = []\n",
    "# for i, (txt_1, txt_2) in enumerate(zip(texts_1, texts_2)):\n",
    "#     if type(txt_2) != str:\n",
    "#         print(type(txt_1))"
   ]
  }
 ],
 "metadata": {
  "kernelspec": {
   "display_name": "Python 3",
   "language": "python",
   "name": "python3"
  },
  "language_info": {
   "codemirror_mode": {
    "name": "ipython",
    "version": 3
   },
   "file_extension": ".py",
   "mimetype": "text/x-python",
   "name": "python",
   "nbconvert_exporter": "python",
   "pygments_lexer": "ipython3",
   "version": "3.7.7"
  }
 },
 "nbformat": 4,
 "nbformat_minor": 4
}
