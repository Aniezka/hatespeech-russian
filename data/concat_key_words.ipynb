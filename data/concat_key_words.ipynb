{
 "cells": [
  {
   "cell_type": "code",
   "execution_count": 24,
   "id": "53e6b991",
   "metadata": {},
   "outputs": [],
   "source": [
    "import pandas as pd\n",
    "import numpy as np\n",
    "from tqdm import tqdm\n",
    "import pymorphy2"
   ]
  },
  {
   "cell_type": "markdown",
   "id": "0bfe9ac1",
   "metadata": {},
   "source": [
    "## Women"
   ]
  },
  {
   "cell_type": "code",
   "execution_count": 42,
   "id": "0c4382f3",
   "metadata": {
    "scrolled": true
   },
   "outputs": [
    {
     "data": {
      "text/html": [
       "<div>\n",
       "<style scoped>\n",
       "    .dataframe tbody tr th:only-of-type {\n",
       "        vertical-align: middle;\n",
       "    }\n",
       "\n",
       "    .dataframe tbody tr th {\n",
       "        vertical-align: top;\n",
       "    }\n",
       "\n",
       "    .dataframe thead th {\n",
       "        text-align: right;\n",
       "    }\n",
       "</style>\n",
       "<table border=\"1\" class=\"dataframe\">\n",
       "  <thead>\n",
       "    <tr style=\"text-align: right;\">\n",
       "      <th></th>\n",
       "      <th>Unnamed: 0</th>\n",
       "      <th>Unnamed: 0.1</th>\n",
       "      <th>Реплика 1 toxicity</th>\n",
       "      <th>Реплика 2 toxicity</th>\n",
       "      <th>Результат 1</th>\n",
       "      <th>Результат 2</th>\n",
       "      <th>Значение 1</th>\n",
       "      <th>Значение 2</th>\n",
       "      <th>Реплика 1 original</th>\n",
       "      <th>Реплика 2 original</th>\n",
       "      <th>Реплика 2 lemma</th>\n",
       "      <th>Выделенные слова</th>\n",
       "      <th>target_group</th>\n",
       "    </tr>\n",
       "  </thead>\n",
       "  <tbody>\n",
       "    <tr>\n",
       "      <th>0</th>\n",
       "      <td>0</td>\n",
       "      <td>6</td>\n",
       "      <td>нахуя свинозагонные русофильские пидорюндели ...</td>\n",
       "      <td>да этот загон ебаный надо удалять уже почему ...</td>\n",
       "      <td>True</td>\n",
       "      <td>True</td>\n",
       "      <td>0.994447</td>\n",
       "      <td>0.997482</td>\n",
       "      <td>Нахуя свинозагонные русофильские пидорюндели ...</td>\n",
       "      <td>Да этот загон ебаный надо удалять уже почему ...</td>\n",
       "      <td>['да', 'этот', 'загон', 'ебаный', 'надо', 'уда...</td>\n",
       "      <td>сука</td>\n",
       "      <td>women</td>\n",
       "    </tr>\n",
       "  </tbody>\n",
       "</table>\n",
       "</div>"
      ],
      "text/plain": [
       "   Unnamed: 0  Unnamed: 0.1  \\\n",
       "0           0             6   \n",
       "\n",
       "                                  Реплика 1 toxicity  \\\n",
       "0   нахуя свинозагонные русофильские пидорюндели ...   \n",
       "\n",
       "                                  Реплика 2 toxicity  Результат 1  \\\n",
       "0   да этот загон ебаный надо удалять уже почему ...         True   \n",
       "\n",
       "   Результат 2  Значение 1  Значение 2  \\\n",
       "0         True    0.994447    0.997482   \n",
       "\n",
       "                                  Реплика 1 original  \\\n",
       "0   Нахуя свинозагонные русофильские пидорюндели ...   \n",
       "\n",
       "                                  Реплика 2 original  \\\n",
       "0   Да этот загон ебаный надо удалять уже почему ...   \n",
       "\n",
       "                                     Реплика 2 lemma Выделенные слова  \\\n",
       "0  ['да', 'этот', 'загон', 'ебаный', 'надо', 'уда...             сука   \n",
       "\n",
       "  target_group  \n",
       "0        women  "
      ]
     },
     "execution_count": 42,
     "metadata": {},
     "output_type": "execute_result"
    }
   ],
   "source": [
    "women_df_one = pd.read_csv(\"women_matched.csv\")\n",
    "women_df_one.head(1)"
   ]
  },
  {
   "cell_type": "code",
   "execution_count": 43,
   "id": "0ec692d2",
   "metadata": {},
   "outputs": [
    {
     "data": {
      "text/plain": [
       "2388"
      ]
     },
     "execution_count": 43,
     "metadata": {},
     "output_type": "execute_result"
    }
   ],
   "source": [
    "len(women_df_one)"
   ]
  },
  {
   "cell_type": "code",
   "execution_count": 44,
   "id": "a085ff84",
   "metadata": {},
   "outputs": [
    {
     "data": {
      "text/html": [
       "<div>\n",
       "<style scoped>\n",
       "    .dataframe tbody tr th:only-of-type {\n",
       "        vertical-align: middle;\n",
       "    }\n",
       "\n",
       "    .dataframe tbody tr th {\n",
       "        vertical-align: top;\n",
       "    }\n",
       "\n",
       "    .dataframe thead th {\n",
       "        text-align: right;\n",
       "    }\n",
       "</style>\n",
       "<table border=\"1\" class=\"dataframe\">\n",
       "  <thead>\n",
       "    <tr style=\"text-align: right;\">\n",
       "      <th></th>\n",
       "      <th>Unnamed: 0</th>\n",
       "      <th>Unnamed: 0.1</th>\n",
       "      <th>Реплика 1 toxicity</th>\n",
       "      <th>Реплика 2 toxicity</th>\n",
       "      <th>Результат 1</th>\n",
       "      <th>Результат 2</th>\n",
       "      <th>Значение 1</th>\n",
       "      <th>Значение 2</th>\n",
       "      <th>Реплика 1 original</th>\n",
       "      <th>Реплика 2 original</th>\n",
       "      <th>Реплика 2 lemma</th>\n",
       "      <th>Выделенные слова</th>\n",
       "      <th>target_group</th>\n",
       "    </tr>\n",
       "  </thead>\n",
       "  <tbody>\n",
       "    <tr>\n",
       "      <th>0</th>\n",
       "      <td>0</td>\n",
       "      <td>1</td>\n",
       "      <td>всем привет. вчера в b увидел фото с ру брони...</td>\n",
       "      <td>хочу лизать ей пизду и ебать анус, а лучше еб...</td>\n",
       "      <td>False</td>\n",
       "      <td>True</td>\n",
       "      <td>0.000876</td>\n",
       "      <td>0.997648</td>\n",
       "      <td>Всем привет. Вчера в b увидел фото с Ру Брони...</td>\n",
       "      <td>Хочу лизать ей пизду и ебать анус, а лучше еб...</td>\n",
       "      <td>['хотеть', 'лизать', 'она', 'пизда', 'и', 'еба...</td>\n",
       "      <td>пизда</td>\n",
       "      <td>women</td>\n",
       "    </tr>\n",
       "  </tbody>\n",
       "</table>\n",
       "</div>"
      ],
      "text/plain": [
       "   Unnamed: 0  Unnamed: 0.1  \\\n",
       "0           0             1   \n",
       "\n",
       "                                  Реплика 1 toxicity  \\\n",
       "0   всем привет. вчера в b увидел фото с ру брони...   \n",
       "\n",
       "                                  Реплика 2 toxicity  Результат 1  \\\n",
       "0   хочу лизать ей пизду и ебать анус, а лучше еб...        False   \n",
       "\n",
       "   Результат 2  Значение 1  Значение 2  \\\n",
       "0         True    0.000876    0.997648   \n",
       "\n",
       "                                  Реплика 1 original  \\\n",
       "0   Всем привет. Вчера в b увидел фото с Ру Брони...   \n",
       "\n",
       "                                  Реплика 2 original  \\\n",
       "0   Хочу лизать ей пизду и ебать анус, а лучше еб...   \n",
       "\n",
       "                                     Реплика 2 lemma Выделенные слова  \\\n",
       "0  ['хотеть', 'лизать', 'она', 'пизда', 'и', 'еба...            пизда   \n",
       "\n",
       "  target_group  \n",
       "0        women  "
      ]
     },
     "execution_count": 44,
     "metadata": {},
     "output_type": "execute_result"
    }
   ],
   "source": [
    "women_df_multi = pd.read_csv(\"women_multiple_matched.csv\")\n",
    "women_df_multi.head(1)"
   ]
  },
  {
   "cell_type": "code",
   "execution_count": 45,
   "id": "6d0596aa",
   "metadata": {},
   "outputs": [
    {
     "data": {
      "text/plain": [
       "2432"
      ]
     },
     "execution_count": 45,
     "metadata": {},
     "output_type": "execute_result"
    }
   ],
   "source": [
    "len(women_df_multi)"
   ]
  },
  {
   "cell_type": "markdown",
   "id": "383cbcfd",
   "metadata": {},
   "source": [
    "## Lgbt"
   ]
  },
  {
   "cell_type": "code",
   "execution_count": 46,
   "id": "19e9ca1f",
   "metadata": {},
   "outputs": [
    {
     "data": {
      "text/html": [
       "<div>\n",
       "<style scoped>\n",
       "    .dataframe tbody tr th:only-of-type {\n",
       "        vertical-align: middle;\n",
       "    }\n",
       "\n",
       "    .dataframe tbody tr th {\n",
       "        vertical-align: top;\n",
       "    }\n",
       "\n",
       "    .dataframe thead th {\n",
       "        text-align: right;\n",
       "    }\n",
       "</style>\n",
       "<table border=\"1\" class=\"dataframe\">\n",
       "  <thead>\n",
       "    <tr style=\"text-align: right;\">\n",
       "      <th></th>\n",
       "      <th>Unnamed: 0</th>\n",
       "      <th>Unnamed: 0.1</th>\n",
       "      <th>Реплика 1 toxicity</th>\n",
       "      <th>Реплика 2 toxicity</th>\n",
       "      <th>Результат 1</th>\n",
       "      <th>Результат 2</th>\n",
       "      <th>Значение 1</th>\n",
       "      <th>Значение 2</th>\n",
       "      <th>Реплика 1 original</th>\n",
       "      <th>Реплика 2 original</th>\n",
       "      <th>Реплика 2 lemma</th>\n",
       "      <th>Выделенные слова</th>\n",
       "      <th>target_group</th>\n",
       "    </tr>\n",
       "  </thead>\n",
       "  <tbody>\n",
       "    <tr>\n",
       "      <th>0</th>\n",
       "      <td>0</td>\n",
       "      <td>12</td>\n",
       "      <td>я думал на земле нет таких людей которые смогл...</td>\n",
       "      <td>я хуесос сосу хуй за иди нахуй даун иди нахуй ...</td>\n",
       "      <td>False</td>\n",
       "      <td>True</td>\n",
       "      <td>0.001034</td>\n",
       "      <td>0.997463</td>\n",
       "      <td>я думал на земле нет таких людей которые смогл...</td>\n",
       "      <td>Я ХУЕСОС СОСУ ХУЙ ЗА 20 ИДИ НАХУЙ ДАУН ИДИ НАХ...</td>\n",
       "      <td>['я', 'хуесос', 'сосать', 'хуй', 'за', 'идти',...</td>\n",
       "      <td>хуесос</td>\n",
       "      <td>lgbt</td>\n",
       "    </tr>\n",
       "  </tbody>\n",
       "</table>\n",
       "</div>"
      ],
      "text/plain": [
       "   Unnamed: 0  Unnamed: 0.1  \\\n",
       "0           0            12   \n",
       "\n",
       "                                  Реплика 1 toxicity  \\\n",
       "0  я думал на земле нет таких людей которые смогл...   \n",
       "\n",
       "                                  Реплика 2 toxicity  Результат 1  \\\n",
       "0  я хуесос сосу хуй за иди нахуй даун иди нахуй ...        False   \n",
       "\n",
       "   Результат 2  Значение 1  Значение 2  \\\n",
       "0         True    0.001034    0.997463   \n",
       "\n",
       "                                  Реплика 1 original  \\\n",
       "0  я думал на земле нет таких людей которые смогл...   \n",
       "\n",
       "                                  Реплика 2 original  \\\n",
       "0  Я ХУЕСОС СОСУ ХУЙ ЗА 20 ИДИ НАХУЙ ДАУН ИДИ НАХ...   \n",
       "\n",
       "                                     Реплика 2 lemma Выделенные слова  \\\n",
       "0  ['я', 'хуесос', 'сосать', 'хуй', 'за', 'идти',...           хуесос   \n",
       "\n",
       "  target_group  \n",
       "0         lgbt  "
      ]
     },
     "execution_count": 46,
     "metadata": {},
     "output_type": "execute_result"
    }
   ],
   "source": [
    "lgbt_df_one = pd.read_csv(\"lgbt_matched.csv\")\n",
    "lgbt_df_one.head(1)"
   ]
  },
  {
   "cell_type": "code",
   "execution_count": 47,
   "id": "8fd9de34",
   "metadata": {},
   "outputs": [
    {
     "data": {
      "text/plain": [
       "998"
      ]
     },
     "execution_count": 47,
     "metadata": {},
     "output_type": "execute_result"
    }
   ],
   "source": [
    "len(lgbt_df_one)"
   ]
  },
  {
   "cell_type": "code",
   "execution_count": 48,
   "id": "6bac437d",
   "metadata": {},
   "outputs": [
    {
     "data": {
      "text/html": [
       "<div>\n",
       "<style scoped>\n",
       "    .dataframe tbody tr th:only-of-type {\n",
       "        vertical-align: middle;\n",
       "    }\n",
       "\n",
       "    .dataframe tbody tr th {\n",
       "        vertical-align: top;\n",
       "    }\n",
       "\n",
       "    .dataframe thead th {\n",
       "        text-align: right;\n",
       "    }\n",
       "</style>\n",
       "<table border=\"1\" class=\"dataframe\">\n",
       "  <thead>\n",
       "    <tr style=\"text-align: right;\">\n",
       "      <th></th>\n",
       "      <th>Unnamed: 0</th>\n",
       "      <th>Unnamed: 0.1</th>\n",
       "      <th>Реплика 1 toxicity</th>\n",
       "      <th>Реплика 2 toxicity</th>\n",
       "      <th>Результат 1</th>\n",
       "      <th>Результат 2</th>\n",
       "      <th>Значение 1</th>\n",
       "      <th>Значение 2</th>\n",
       "      <th>Реплика 1 original</th>\n",
       "      <th>Реплика 2 original</th>\n",
       "      <th>Реплика 2 lemma</th>\n",
       "      <th>Выделенные слова</th>\n",
       "      <th>target_group</th>\n",
       "    </tr>\n",
       "  </thead>\n",
       "  <tbody>\n",
       "    <tr>\n",
       "      <th>0</th>\n",
       "      <td>0</td>\n",
       "      <td>172</td>\n",
       "      <td>ты пока писал блядина сто хуев успел насосать ...</td>\n",
       "      <td>обвафленный хуеплет и сын блядушника и попугая...</td>\n",
       "      <td>True</td>\n",
       "      <td>True</td>\n",
       "      <td>0.997342</td>\n",
       "      <td>0.997235</td>\n",
       "      <td>ты пока писал блядина сто хуев успел насосать ...</td>\n",
       "      <td>обвафленный хуеплет и сын блядушника и попугая...</td>\n",
       "      <td>['обвафленный', 'хуепгод', 'и', 'сын', 'блядуш...</td>\n",
       "      <td>дырявый</td>\n",
       "      <td>lgbt</td>\n",
       "    </tr>\n",
       "  </tbody>\n",
       "</table>\n",
       "</div>"
      ],
      "text/plain": [
       "   Unnamed: 0  Unnamed: 0.1  \\\n",
       "0           0           172   \n",
       "\n",
       "                                  Реплика 1 toxicity  \\\n",
       "0  ты пока писал блядина сто хуев успел насосать ...   \n",
       "\n",
       "                                  Реплика 2 toxicity  Результат 1  \\\n",
       "0  обвафленный хуеплет и сын блядушника и попугая...         True   \n",
       "\n",
       "   Результат 2  Значение 1  Значение 2  \\\n",
       "0         True    0.997342    0.997235   \n",
       "\n",
       "                                  Реплика 1 original  \\\n",
       "0  ты пока писал блядина сто хуев успел насосать ...   \n",
       "\n",
       "                                  Реплика 2 original  \\\n",
       "0  обвафленный хуеплет и сын блядушника и попугая...   \n",
       "\n",
       "                                     Реплика 2 lemma Выделенные слова  \\\n",
       "0  ['обвафленный', 'хуепгод', 'и', 'сын', 'блядуш...          дырявый   \n",
       "\n",
       "  target_group  \n",
       "0         lgbt  "
      ]
     },
     "execution_count": 48,
     "metadata": {},
     "output_type": "execute_result"
    }
   ],
   "source": [
    "lgbt_df_multi = pd.read_csv(\"lgbt_multiple_matched.csv\")\n",
    "lgbt_df_multi.head(1)"
   ]
  },
  {
   "cell_type": "code",
   "execution_count": 49,
   "id": "63fedf04",
   "metadata": {},
   "outputs": [
    {
     "data": {
      "text/plain": [
       "333"
      ]
     },
     "execution_count": 49,
     "metadata": {},
     "output_type": "execute_result"
    }
   ],
   "source": [
    "len(lgbt_df_multi)"
   ]
  },
  {
   "cell_type": "markdown",
   "id": "47092ce0",
   "metadata": {},
   "source": [
    "## Migrants"
   ]
  },
  {
   "cell_type": "code",
   "execution_count": 50,
   "id": "92cd649c",
   "metadata": {},
   "outputs": [
    {
     "data": {
      "text/html": [
       "<div>\n",
       "<style scoped>\n",
       "    .dataframe tbody tr th:only-of-type {\n",
       "        vertical-align: middle;\n",
       "    }\n",
       "\n",
       "    .dataframe tbody tr th {\n",
       "        vertical-align: top;\n",
       "    }\n",
       "\n",
       "    .dataframe thead th {\n",
       "        text-align: right;\n",
       "    }\n",
       "</style>\n",
       "<table border=\"1\" class=\"dataframe\">\n",
       "  <thead>\n",
       "    <tr style=\"text-align: right;\">\n",
       "      <th></th>\n",
       "      <th>Unnamed: 0</th>\n",
       "      <th>Unnamed: 0.1</th>\n",
       "      <th>Реплика 1 toxicity</th>\n",
       "      <th>Реплика 2 toxicity</th>\n",
       "      <th>Результат 1</th>\n",
       "      <th>Результат 2</th>\n",
       "      <th>Значение 1</th>\n",
       "      <th>Значение 2</th>\n",
       "      <th>Реплика 1 original</th>\n",
       "      <th>Реплика 2 original</th>\n",
       "      <th>Реплика 2 lemma</th>\n",
       "      <th>Выделенные слова</th>\n",
       "      <th>target_group</th>\n",
       "    </tr>\n",
       "  </thead>\n",
       "  <tbody>\n",
       "    <tr>\n",
       "      <th>0</th>\n",
       "      <td>0</td>\n",
       "      <td>6</td>\n",
       "      <td>нахуя свинозагонные русофильские пидорюндели ...</td>\n",
       "      <td>да этот загон ебаный надо удалять уже почему ...</td>\n",
       "      <td>True</td>\n",
       "      <td>True</td>\n",
       "      <td>0.994447</td>\n",
       "      <td>0.997482</td>\n",
       "      <td>Нахуя свинозагонные русофильские пидорюндели ...</td>\n",
       "      <td>Да этот загон ебаный надо удалять уже почему ...</td>\n",
       "      <td>['да', 'этот', 'загон', 'ебаный', 'надо', 'уда...</td>\n",
       "      <td>абу</td>\n",
       "      <td>migrants</td>\n",
       "    </tr>\n",
       "  </tbody>\n",
       "</table>\n",
       "</div>"
      ],
      "text/plain": [
       "   Unnamed: 0  Unnamed: 0.1  \\\n",
       "0           0             6   \n",
       "\n",
       "                                  Реплика 1 toxicity  \\\n",
       "0   нахуя свинозагонные русофильские пидорюндели ...   \n",
       "\n",
       "                                  Реплика 2 toxicity  Результат 1  \\\n",
       "0   да этот загон ебаный надо удалять уже почему ...         True   \n",
       "\n",
       "   Результат 2  Значение 1  Значение 2  \\\n",
       "0         True    0.994447    0.997482   \n",
       "\n",
       "                                  Реплика 1 original  \\\n",
       "0   Нахуя свинозагонные русофильские пидорюндели ...   \n",
       "\n",
       "                                  Реплика 2 original  \\\n",
       "0   Да этот загон ебаный надо удалять уже почему ...   \n",
       "\n",
       "                                     Реплика 2 lemma Выделенные слова  \\\n",
       "0  ['да', 'этот', 'загон', 'ебаный', 'надо', 'уда...              абу   \n",
       "\n",
       "  target_group  \n",
       "0     migrants  "
      ]
     },
     "execution_count": 50,
     "metadata": {},
     "output_type": "execute_result"
    }
   ],
   "source": [
    "migrant_df_one = pd.read_csv(\"migrant_matched.csv\")\n",
    "migrant_df_one.head(1)"
   ]
  },
  {
   "cell_type": "code",
   "execution_count": 51,
   "id": "0bc6826d",
   "metadata": {},
   "outputs": [
    {
     "data": {
      "text/plain": [
       "531"
      ]
     },
     "execution_count": 51,
     "metadata": {},
     "output_type": "execute_result"
    }
   ],
   "source": [
    "len(migrant_df_one)"
   ]
  },
  {
   "cell_type": "code",
   "execution_count": 52,
   "id": "29b27eb4",
   "metadata": {},
   "outputs": [
    {
     "data": {
      "text/html": [
       "<div>\n",
       "<style scoped>\n",
       "    .dataframe tbody tr th:only-of-type {\n",
       "        vertical-align: middle;\n",
       "    }\n",
       "\n",
       "    .dataframe tbody tr th {\n",
       "        vertical-align: top;\n",
       "    }\n",
       "\n",
       "    .dataframe thead th {\n",
       "        text-align: right;\n",
       "    }\n",
       "</style>\n",
       "<table border=\"1\" class=\"dataframe\">\n",
       "  <thead>\n",
       "    <tr style=\"text-align: right;\">\n",
       "      <th></th>\n",
       "      <th>Unnamed: 0</th>\n",
       "      <th>Unnamed: 0.1</th>\n",
       "      <th>Реплика 1 toxicity</th>\n",
       "      <th>Реплика 2 toxicity</th>\n",
       "      <th>Результат 1</th>\n",
       "      <th>Результат 2</th>\n",
       "      <th>Значение 1</th>\n",
       "      <th>Значение 2</th>\n",
       "      <th>Реплика 1 original</th>\n",
       "      <th>Реплика 2 original</th>\n",
       "      <th>Реплика 2 lemma</th>\n",
       "      <th>Выделенные слова</th>\n",
       "      <th>target_group</th>\n",
       "    </tr>\n",
       "  </thead>\n",
       "  <tbody>\n",
       "    <tr>\n",
       "      <th>0</th>\n",
       "      <td>0</td>\n",
       "      <td>193</td>\n",
       "      <td>надеемся, что правоохранительные органы заинт...</td>\n",
       "      <td>выкинуть нахуй из рашки обезьяны заебали хуйне...</td>\n",
       "      <td>False</td>\n",
       "      <td>True</td>\n",
       "      <td>0.000286</td>\n",
       "      <td>0.997219</td>\n",
       "      <td>Надеемся, что правоохранительные органы заинт...</td>\n",
       "      <td>выкинуть нахуй из рашки обезьяны заебали хуйне...</td>\n",
       "      <td>['выкинуть', 'нахуй', 'из', 'рашка', 'обезьяна...</td>\n",
       "      <td>обезьяна</td>\n",
       "      <td>migrants</td>\n",
       "    </tr>\n",
       "  </tbody>\n",
       "</table>\n",
       "</div>"
      ],
      "text/plain": [
       "   Unnamed: 0  Unnamed: 0.1  \\\n",
       "0           0           193   \n",
       "\n",
       "                                  Реплика 1 toxicity  \\\n",
       "0   надеемся, что правоохранительные органы заинт...   \n",
       "\n",
       "                                  Реплика 2 toxicity  Результат 1  \\\n",
       "0  выкинуть нахуй из рашки обезьяны заебали хуйне...        False   \n",
       "\n",
       "   Результат 2  Значение 1  Значение 2  \\\n",
       "0         True    0.000286    0.997219   \n",
       "\n",
       "                                  Реплика 1 original  \\\n",
       "0   Надеемся, что правоохранительные органы заинт...   \n",
       "\n",
       "                                  Реплика 2 original  \\\n",
       "0  выкинуть нахуй из рашки обезьяны заебали хуйне...   \n",
       "\n",
       "                                     Реплика 2 lemma Выделенные слова  \\\n",
       "0  ['выкинуть', 'нахуй', 'из', 'рашка', 'обезьяна...         обезьяна   \n",
       "\n",
       "  target_group  \n",
       "0     migrants  "
      ]
     },
     "execution_count": 52,
     "metadata": {},
     "output_type": "execute_result"
    }
   ],
   "source": [
    "migrant_df_multi = pd.read_csv(\"migrant_multiple_matched.csv\")\n",
    "migrant_df_multi.head(1)"
   ]
  },
  {
   "cell_type": "code",
   "execution_count": 53,
   "id": "8f151ce3",
   "metadata": {},
   "outputs": [
    {
     "data": {
      "text/plain": [
       "99"
      ]
     },
     "execution_count": 53,
     "metadata": {},
     "output_type": "execute_result"
    }
   ],
   "source": [
    "len(migrant_df_multi)"
   ]
  },
  {
   "cell_type": "markdown",
   "id": "f085edf6",
   "metadata": {},
   "source": [
    "## Men"
   ]
  },
  {
   "cell_type": "code",
   "execution_count": 54,
   "id": "6a874984",
   "metadata": {},
   "outputs": [
    {
     "data": {
      "text/html": [
       "<div>\n",
       "<style scoped>\n",
       "    .dataframe tbody tr th:only-of-type {\n",
       "        vertical-align: middle;\n",
       "    }\n",
       "\n",
       "    .dataframe tbody tr th {\n",
       "        vertical-align: top;\n",
       "    }\n",
       "\n",
       "    .dataframe thead th {\n",
       "        text-align: right;\n",
       "    }\n",
       "</style>\n",
       "<table border=\"1\" class=\"dataframe\">\n",
       "  <thead>\n",
       "    <tr style=\"text-align: right;\">\n",
       "      <th></th>\n",
       "      <th>Unnamed: 0</th>\n",
       "      <th>Unnamed: 0.1</th>\n",
       "      <th>Реплика 1 toxicity</th>\n",
       "      <th>Реплика 2 toxicity</th>\n",
       "      <th>Результат 1</th>\n",
       "      <th>Результат 2</th>\n",
       "      <th>Значение 1</th>\n",
       "      <th>Значение 2</th>\n",
       "      <th>Реплика 1 original</th>\n",
       "      <th>Реплика 2 original</th>\n",
       "      <th>Реплика 2 lemma</th>\n",
       "      <th>Выделенные слова</th>\n",
       "      <th>target_group</th>\n",
       "    </tr>\n",
       "  </thead>\n",
       "  <tbody>\n",
       "    <tr>\n",
       "      <th>0</th>\n",
       "      <td>0</td>\n",
       "      <td>10</td>\n",
       "      <td>сын шлюхи плакаты от картин уже отличить не мо...</td>\n",
       "      <td>ты хуеплет ебаный с еблищем огр мага нахуй воо...</td>\n",
       "      <td>True</td>\n",
       "      <td>True</td>\n",
       "      <td>0.979576</td>\n",
       "      <td>0.997473</td>\n",
       "      <td>сын шлюхи плакаты от картин уже отличить не мо...</td>\n",
       "      <td>ты хуеплет ебаный с еблищем огр мага нахуй воо...</td>\n",
       "      <td>['ты', 'хуепгод', 'ебаный', 'с', 'еблискать', ...</td>\n",
       "      <td>хуеплет</td>\n",
       "      <td>man</td>\n",
       "    </tr>\n",
       "  </tbody>\n",
       "</table>\n",
       "</div>"
      ],
      "text/plain": [
       "   Unnamed: 0  Unnamed: 0.1  \\\n",
       "0           0            10   \n",
       "\n",
       "                                  Реплика 1 toxicity  \\\n",
       "0  сын шлюхи плакаты от картин уже отличить не мо...   \n",
       "\n",
       "                                  Реплика 2 toxicity  Результат 1  \\\n",
       "0  ты хуеплет ебаный с еблищем огр мага нахуй воо...         True   \n",
       "\n",
       "   Результат 2  Значение 1  Значение 2  \\\n",
       "0         True    0.979576    0.997473   \n",
       "\n",
       "                                  Реплика 1 original  \\\n",
       "0  сын шлюхи плакаты от картин уже отличить не мо...   \n",
       "\n",
       "                                  Реплика 2 original  \\\n",
       "0  ты хуеплет ебаный с еблищем огр мага нахуй воо...   \n",
       "\n",
       "                                     Реплика 2 lemma Выделенные слова  \\\n",
       "0  ['ты', 'хуепгод', 'ебаный', 'с', 'еблискать', ...          хуеплет   \n",
       "\n",
       "  target_group  \n",
       "0          man  "
      ]
     },
     "execution_count": 54,
     "metadata": {},
     "output_type": "execute_result"
    }
   ],
   "source": [
    "man_df_one = pd.read_csv(\"man_matched.csv\")\n",
    "man_df_one.head(1)"
   ]
  },
  {
   "cell_type": "code",
   "execution_count": 55,
   "id": "14ad6381",
   "metadata": {},
   "outputs": [
    {
     "data": {
      "text/plain": [
       "4572"
      ]
     },
     "execution_count": 55,
     "metadata": {},
     "output_type": "execute_result"
    }
   ],
   "source": [
    "len(man_df_one)"
   ]
  },
  {
   "cell_type": "code",
   "execution_count": 74,
   "id": "3eeeb0bd",
   "metadata": {},
   "outputs": [
    {
     "data": {
      "text/html": [
       "<div>\n",
       "<style scoped>\n",
       "    .dataframe tbody tr th:only-of-type {\n",
       "        vertical-align: middle;\n",
       "    }\n",
       "\n",
       "    .dataframe tbody tr th {\n",
       "        vertical-align: top;\n",
       "    }\n",
       "\n",
       "    .dataframe thead th {\n",
       "        text-align: right;\n",
       "    }\n",
       "</style>\n",
       "<table border=\"1\" class=\"dataframe\">\n",
       "  <thead>\n",
       "    <tr style=\"text-align: right;\">\n",
       "      <th></th>\n",
       "      <th>Unnamed: 0</th>\n",
       "      <th>Unnamed: 0.1</th>\n",
       "      <th>Реплика 1 toxicity</th>\n",
       "      <th>Реплика 2 toxicity</th>\n",
       "      <th>Результат 1</th>\n",
       "      <th>Результат 2</th>\n",
       "      <th>Значение 1</th>\n",
       "      <th>Значение 2</th>\n",
       "      <th>Реплика 1 original</th>\n",
       "      <th>Реплика 2 original</th>\n",
       "      <th>Реплика 2 lemma</th>\n",
       "      <th>Выделенные слова</th>\n",
       "      <th>target_group</th>\n",
       "    </tr>\n",
       "  </thead>\n",
       "  <tbody>\n",
       "    <tr>\n",
       "      <th>0</th>\n",
       "      <td>0</td>\n",
       "      <td>8</td>\n",
       "      <td>да все холодные страны можно, на глубине км у...</td>\n",
       "      <td>хуй ты мой сосал, пися недоразвитая. я твою с...</td>\n",
       "      <td>False</td>\n",
       "      <td>True</td>\n",
       "      <td>0.000389</td>\n",
       "      <td>0.997477</td>\n",
       "      <td>Да все холодные страны можно, на глубине 5км ...</td>\n",
       "      <td>Хуй ты мой сосал, пися недоразвитая. Я твою с...</td>\n",
       "      <td>['хуй', 'ты', 'мой', 'сосал,', 'пися', 'недора...</td>\n",
       "      <td>хуй</td>\n",
       "      <td>man</td>\n",
       "    </tr>\n",
       "  </tbody>\n",
       "</table>\n",
       "</div>"
      ],
      "text/plain": [
       "   Unnamed: 0  Unnamed: 0.1  \\\n",
       "0           0             8   \n",
       "\n",
       "                                  Реплика 1 toxicity  \\\n",
       "0   да все холодные страны можно, на глубине км у...   \n",
       "\n",
       "                                  Реплика 2 toxicity  Результат 1  \\\n",
       "0   хуй ты мой сосал, пися недоразвитая. я твою с...        False   \n",
       "\n",
       "   Результат 2  Значение 1  Значение 2  \\\n",
       "0         True    0.000389    0.997477   \n",
       "\n",
       "                                  Реплика 1 original  \\\n",
       "0   Да все холодные страны можно, на глубине 5км ...   \n",
       "\n",
       "                                  Реплика 2 original  \\\n",
       "0   Хуй ты мой сосал, пися недоразвитая. Я твою с...   \n",
       "\n",
       "                                     Реплика 2 lemma Выделенные слова  \\\n",
       "0  ['хуй', 'ты', 'мой', 'сосал,', 'пися', 'недора...              хуй   \n",
       "\n",
       "  target_group  \n",
       "0          man  "
      ]
     },
     "execution_count": 74,
     "metadata": {},
     "output_type": "execute_result"
    }
   ],
   "source": [
    "man_df_multi = pd.read_csv(\"man_multiple_matched.csv\")\n",
    "man_df_multi.head(1)"
   ]
  },
  {
   "cell_type": "code",
   "execution_count": 75,
   "id": "9967ce27",
   "metadata": {},
   "outputs": [
    {
     "data": {
      "text/plain": [
       "4285"
      ]
     },
     "execution_count": 75,
     "metadata": {},
     "output_type": "execute_result"
    }
   ],
   "source": [
    "len(man_df_multi)"
   ]
  },
  {
   "cell_type": "markdown",
   "id": "37ba73ba",
   "metadata": {},
   "source": [
    "## Born place"
   ]
  },
  {
   "cell_type": "code",
   "execution_count": 58,
   "id": "49ce65c7",
   "metadata": {},
   "outputs": [
    {
     "data": {
      "text/html": [
       "<div>\n",
       "<style scoped>\n",
       "    .dataframe tbody tr th:only-of-type {\n",
       "        vertical-align: middle;\n",
       "    }\n",
       "\n",
       "    .dataframe tbody tr th {\n",
       "        vertical-align: top;\n",
       "    }\n",
       "\n",
       "    .dataframe thead th {\n",
       "        text-align: right;\n",
       "    }\n",
       "</style>\n",
       "<table border=\"1\" class=\"dataframe\">\n",
       "  <thead>\n",
       "    <tr style=\"text-align: right;\">\n",
       "      <th></th>\n",
       "      <th>Unnamed: 0</th>\n",
       "      <th>Unnamed: 0.1</th>\n",
       "      <th>Реплика 1 toxicity</th>\n",
       "      <th>Реплика 2 toxicity</th>\n",
       "      <th>Результат 1</th>\n",
       "      <th>Результат 2</th>\n",
       "      <th>Значение 1</th>\n",
       "      <th>Значение 2</th>\n",
       "      <th>Реплика 1 original</th>\n",
       "      <th>Реплика 2 original</th>\n",
       "      <th>Реплика 2 lemma</th>\n",
       "      <th>Выделенные слова</th>\n",
       "      <th>target_group</th>\n",
       "    </tr>\n",
       "  </thead>\n",
       "  <tbody>\n",
       "    <tr>\n",
       "      <th>0</th>\n",
       "      <td>0</td>\n",
       "      <td>49</td>\n",
       "      <td>бля зоны роста это когда хрящи костей заполня...</td>\n",
       "      <td>блять уебок ебучий, я тебе сказал нахуй я гото...</td>\n",
       "      <td>True</td>\n",
       "      <td>True</td>\n",
       "      <td>0.913245</td>\n",
       "      <td>0.997365</td>\n",
       "      <td>Бля зоны роста это когда хрящи костей заполня...</td>\n",
       "      <td>блять уебок ебучий, я тебе сказал нахуй я гото...</td>\n",
       "      <td>['блять', 'уебок', 'ебучий,', 'я', 'ты', 'сказ...</td>\n",
       "      <td>хохол</td>\n",
       "      <td>born_place</td>\n",
       "    </tr>\n",
       "  </tbody>\n",
       "</table>\n",
       "</div>"
      ],
      "text/plain": [
       "   Unnamed: 0  Unnamed: 0.1  \\\n",
       "0           0            49   \n",
       "\n",
       "                                  Реплика 1 toxicity  \\\n",
       "0   бля зоны роста это когда хрящи костей заполня...   \n",
       "\n",
       "                                  Реплика 2 toxicity  Результат 1  \\\n",
       "0  блять уебок ебучий, я тебе сказал нахуй я гото...         True   \n",
       "\n",
       "   Результат 2  Значение 1  Значение 2  \\\n",
       "0         True    0.913245    0.997365   \n",
       "\n",
       "                                  Реплика 1 original  \\\n",
       "0   Бля зоны роста это когда хрящи костей заполня...   \n",
       "\n",
       "                                  Реплика 2 original  \\\n",
       "0  блять уебок ебучий, я тебе сказал нахуй я гото...   \n",
       "\n",
       "                                     Реплика 2 lemma Выделенные слова  \\\n",
       "0  ['блять', 'уебок', 'ебучий,', 'я', 'ты', 'сказ...            хохол   \n",
       "\n",
       "  target_group  \n",
       "0   born_place  "
      ]
     },
     "execution_count": 58,
     "metadata": {},
     "output_type": "execute_result"
    }
   ],
   "source": [
    "born_place_df_one = pd.read_csv(\"born_place_matched.csv\")\n",
    "born_place_df_one.head(1)"
   ]
  },
  {
   "cell_type": "code",
   "execution_count": 59,
   "id": "882c2c76",
   "metadata": {},
   "outputs": [
    {
     "data": {
      "text/plain": [
       "1328"
      ]
     },
     "execution_count": 59,
     "metadata": {},
     "output_type": "execute_result"
    }
   ],
   "source": [
    "len(born_place_df_one)"
   ]
  },
  {
   "cell_type": "code",
   "execution_count": 60,
   "id": "efe5f262",
   "metadata": {},
   "outputs": [
    {
     "data": {
      "text/html": [
       "<div>\n",
       "<style scoped>\n",
       "    .dataframe tbody tr th:only-of-type {\n",
       "        vertical-align: middle;\n",
       "    }\n",
       "\n",
       "    .dataframe tbody tr th {\n",
       "        vertical-align: top;\n",
       "    }\n",
       "\n",
       "    .dataframe thead th {\n",
       "        text-align: right;\n",
       "    }\n",
       "</style>\n",
       "<table border=\"1\" class=\"dataframe\">\n",
       "  <thead>\n",
       "    <tr style=\"text-align: right;\">\n",
       "      <th></th>\n",
       "      <th>Unnamed: 0</th>\n",
       "      <th>Unnamed: 0.1</th>\n",
       "      <th>Реплика 1 toxicity</th>\n",
       "      <th>Реплика 2 toxicity</th>\n",
       "      <th>Результат 1</th>\n",
       "      <th>Результат 2</th>\n",
       "      <th>Значение 1</th>\n",
       "      <th>Значение 2</th>\n",
       "      <th>Реплика 1 original</th>\n",
       "      <th>Реплика 2 original</th>\n",
       "      <th>Реплика 2 lemma</th>\n",
       "      <th>Выделенные слова</th>\n",
       "      <th>target_group</th>\n",
       "    </tr>\n",
       "  </thead>\n",
       "  <tbody>\n",
       "    <tr>\n",
       "      <th>0</th>\n",
       "      <td>0</td>\n",
       "      <td>49</td>\n",
       "      <td>бля зоны роста это когда хрящи костей заполня...</td>\n",
       "      <td>блять уебок ебучий, я тебе сказал нахуй я гото...</td>\n",
       "      <td>True</td>\n",
       "      <td>True</td>\n",
       "      <td>0.913245</td>\n",
       "      <td>0.997365</td>\n",
       "      <td>Бля зоны роста это когда хрящи костей заполня...</td>\n",
       "      <td>блять уебок ебучий, я тебе сказал нахуй я гото...</td>\n",
       "      <td>['блять', 'уебок', 'ебучий,', 'я', 'ты', 'сказ...</td>\n",
       "      <td>хохол</td>\n",
       "      <td>born_place</td>\n",
       "    </tr>\n",
       "  </tbody>\n",
       "</table>\n",
       "</div>"
      ],
      "text/plain": [
       "   Unnamed: 0  Unnamed: 0.1  \\\n",
       "0           0            49   \n",
       "\n",
       "                                  Реплика 1 toxicity  \\\n",
       "0   бля зоны роста это когда хрящи костей заполня...   \n",
       "\n",
       "                                  Реплика 2 toxicity  Результат 1  \\\n",
       "0  блять уебок ебучий, я тебе сказал нахуй я гото...         True   \n",
       "\n",
       "   Результат 2  Значение 1  Значение 2  \\\n",
       "0         True    0.913245    0.997365   \n",
       "\n",
       "                                  Реплика 1 original  \\\n",
       "0   Бля зоны роста это когда хрящи костей заполня...   \n",
       "\n",
       "                                  Реплика 2 original  \\\n",
       "0  блять уебок ебучий, я тебе сказал нахуй я гото...   \n",
       "\n",
       "                                     Реплика 2 lemma Выделенные слова  \\\n",
       "0  ['блять', 'уебок', 'ебучий,', 'я', 'ты', 'сказ...            хохол   \n",
       "\n",
       "  target_group  \n",
       "0   born_place  "
      ]
     },
     "execution_count": 60,
     "metadata": {},
     "output_type": "execute_result"
    }
   ],
   "source": [
    "born_place_df_multi = pd.read_csv(\"born_place_multiple.csv\")\n",
    "born_place_df_multi.head(1)"
   ]
  },
  {
   "cell_type": "code",
   "execution_count": 61,
   "id": "494aa390",
   "metadata": {},
   "outputs": [
    {
     "data": {
      "text/plain": [
       "613"
      ]
     },
     "execution_count": 61,
     "metadata": {},
     "output_type": "execute_result"
    }
   ],
   "source": [
    "len(born_place_df_multi)"
   ]
  },
  {
   "cell_type": "markdown",
   "id": "f7228f80",
   "metadata": {},
   "source": [
    "## Child"
   ]
  },
  {
   "cell_type": "code",
   "execution_count": 62,
   "id": "7c15476b",
   "metadata": {},
   "outputs": [
    {
     "data": {
      "text/html": [
       "<div>\n",
       "<style scoped>\n",
       "    .dataframe tbody tr th:only-of-type {\n",
       "        vertical-align: middle;\n",
       "    }\n",
       "\n",
       "    .dataframe tbody tr th {\n",
       "        vertical-align: top;\n",
       "    }\n",
       "\n",
       "    .dataframe thead th {\n",
       "        text-align: right;\n",
       "    }\n",
       "</style>\n",
       "<table border=\"1\" class=\"dataframe\">\n",
       "  <thead>\n",
       "    <tr style=\"text-align: right;\">\n",
       "      <th></th>\n",
       "      <th>Unnamed: 0</th>\n",
       "      <th>Unnamed: 0.1</th>\n",
       "      <th>Реплика 1 toxicity</th>\n",
       "      <th>Реплика 2 toxicity</th>\n",
       "      <th>Результат 1</th>\n",
       "      <th>Результат 2</th>\n",
       "      <th>Значение 1</th>\n",
       "      <th>Значение 2</th>\n",
       "      <th>Реплика 1 original</th>\n",
       "      <th>Реплика 2 original</th>\n",
       "      <th>Реплика 2 lemma</th>\n",
       "      <th>Выделенные слова</th>\n",
       "      <th>target_group</th>\n",
       "    </tr>\n",
       "  </thead>\n",
       "  <tbody>\n",
       "    <tr>\n",
       "      <th>0</th>\n",
       "      <td>0</td>\n",
       "      <td>6</td>\n",
       "      <td>нахуя свинозагонные русофильские пидорюндели ...</td>\n",
       "      <td>да этот загон ебаный надо удалять уже почему ...</td>\n",
       "      <td>True</td>\n",
       "      <td>True</td>\n",
       "      <td>0.994447</td>\n",
       "      <td>0.997482</td>\n",
       "      <td>Нахуя свинозагонные русофильские пидорюндели ...</td>\n",
       "      <td>Да этот загон ебаный надо удалять уже почему ...</td>\n",
       "      <td>['да', 'этот', 'загон', 'ебаный', 'надо', 'уда...</td>\n",
       "      <td>выблядок</td>\n",
       "      <td>child</td>\n",
       "    </tr>\n",
       "  </tbody>\n",
       "</table>\n",
       "</div>"
      ],
      "text/plain": [
       "   Unnamed: 0  Unnamed: 0.1  \\\n",
       "0           0             6   \n",
       "\n",
       "                                  Реплика 1 toxicity  \\\n",
       "0   нахуя свинозагонные русофильские пидорюндели ...   \n",
       "\n",
       "                                  Реплика 2 toxicity  Результат 1  \\\n",
       "0   да этот загон ебаный надо удалять уже почему ...         True   \n",
       "\n",
       "   Результат 2  Значение 1  Значение 2  \\\n",
       "0         True    0.994447    0.997482   \n",
       "\n",
       "                                  Реплика 1 original  \\\n",
       "0   Нахуя свинозагонные русофильские пидорюндели ...   \n",
       "\n",
       "                                  Реплика 2 original  \\\n",
       "0   Да этот загон ебаный надо удалять уже почему ...   \n",
       "\n",
       "                                     Реплика 2 lemma Выделенные слова  \\\n",
       "0  ['да', 'этот', 'загон', 'ебаный', 'надо', 'уда...         выблядок   \n",
       "\n",
       "  target_group  \n",
       "0        child  "
      ]
     },
     "execution_count": 62,
     "metadata": {},
     "output_type": "execute_result"
    }
   ],
   "source": [
    "child_df_one = pd.read_csv(\"child_matched.csv\")\n",
    "child_df_one.head(1)"
   ]
  },
  {
   "cell_type": "code",
   "execution_count": 63,
   "id": "74e53cf5",
   "metadata": {},
   "outputs": [
    {
     "data": {
      "text/plain": [
       "421"
      ]
     },
     "execution_count": 63,
     "metadata": {},
     "output_type": "execute_result"
    }
   ],
   "source": [
    "len(child_df_one)"
   ]
  },
  {
   "cell_type": "code",
   "execution_count": 64,
   "id": "ec4000af",
   "metadata": {},
   "outputs": [
    {
     "data": {
      "text/html": [
       "<div>\n",
       "<style scoped>\n",
       "    .dataframe tbody tr th:only-of-type {\n",
       "        vertical-align: middle;\n",
       "    }\n",
       "\n",
       "    .dataframe tbody tr th {\n",
       "        vertical-align: top;\n",
       "    }\n",
       "\n",
       "    .dataframe thead th {\n",
       "        text-align: right;\n",
       "    }\n",
       "</style>\n",
       "<table border=\"1\" class=\"dataframe\">\n",
       "  <thead>\n",
       "    <tr style=\"text-align: right;\">\n",
       "      <th></th>\n",
       "      <th>Unnamed: 0</th>\n",
       "      <th>Unnamed: 0.1</th>\n",
       "      <th>Реплика 1 toxicity</th>\n",
       "      <th>Реплика 2 toxicity</th>\n",
       "      <th>Результат 1</th>\n",
       "      <th>Результат 2</th>\n",
       "      <th>Значение 1</th>\n",
       "      <th>Значение 2</th>\n",
       "      <th>Реплика 1 original</th>\n",
       "      <th>Реплика 2 original</th>\n",
       "      <th>Реплика 2 lemma</th>\n",
       "      <th>Выделенные слова</th>\n",
       "      <th>target_group</th>\n",
       "    </tr>\n",
       "  </thead>\n",
       "  <tbody>\n",
       "    <tr>\n",
       "      <th>0</th>\n",
       "      <td>0</td>\n",
       "      <td>40446</td>\n",
       "      <td>какой же ты все-таки самовлюбленный дегенерат...</td>\n",
       "      <td>самовлюбленный дегенерата это лучше или хуже,...</td>\n",
       "      <td>True</td>\n",
       "      <td>True</td>\n",
       "      <td>0.992399</td>\n",
       "      <td>0.982322</td>\n",
       "      <td>Какой же ты все-таки самовлюбленный дегенерат...</td>\n",
       "      <td>самовлюбленный дегенератА это лучше или хуже,...</td>\n",
       "      <td>['самовлюблённый', 'дегенерат', 'это', 'хороши...</td>\n",
       "      <td>крысеныш</td>\n",
       "      <td>child</td>\n",
       "    </tr>\n",
       "  </tbody>\n",
       "</table>\n",
       "</div>"
      ],
      "text/plain": [
       "   Unnamed: 0  Unnamed: 0.1  \\\n",
       "0           0         40446   \n",
       "\n",
       "                                  Реплика 1 toxicity  \\\n",
       "0   какой же ты все-таки самовлюбленный дегенерат...   \n",
       "\n",
       "                                  Реплика 2 toxicity  Результат 1  \\\n",
       "0   самовлюбленный дегенерата это лучше или хуже,...         True   \n",
       "\n",
       "   Результат 2  Значение 1  Значение 2  \\\n",
       "0         True    0.992399    0.982322   \n",
       "\n",
       "                                  Реплика 1 original  \\\n",
       "0   Какой же ты все-таки самовлюбленный дегенерат...   \n",
       "\n",
       "                                  Реплика 2 original  \\\n",
       "0   самовлюбленный дегенератА это лучше или хуже,...   \n",
       "\n",
       "                                     Реплика 2 lemma Выделенные слова  \\\n",
       "0  ['самовлюблённый', 'дегенерат', 'это', 'хороши...         крысеныш   \n",
       "\n",
       "  target_group  \n",
       "0        child  "
      ]
     },
     "execution_count": 64,
     "metadata": {},
     "output_type": "execute_result"
    }
   ],
   "source": [
    "child_df_multi = pd.read_csv(\"child_multiple.csv\")\n",
    "child_df_multi.head(1)"
   ]
  },
  {
   "cell_type": "code",
   "execution_count": 65,
   "id": "870bc41e",
   "metadata": {},
   "outputs": [
    {
     "data": {
      "text/plain": [
       "1"
      ]
     },
     "execution_count": 65,
     "metadata": {},
     "output_type": "execute_result"
    }
   ],
   "source": [
    "len(child_df_multi)"
   ]
  },
  {
   "cell_type": "markdown",
   "id": "5016c30e",
   "metadata": {},
   "source": [
    "## Others"
   ]
  },
  {
   "cell_type": "code",
   "execution_count": 66,
   "id": "18b9981f",
   "metadata": {},
   "outputs": [
    {
     "data": {
      "text/html": [
       "<div>\n",
       "<style scoped>\n",
       "    .dataframe tbody tr th:only-of-type {\n",
       "        vertical-align: middle;\n",
       "    }\n",
       "\n",
       "    .dataframe tbody tr th {\n",
       "        vertical-align: top;\n",
       "    }\n",
       "\n",
       "    .dataframe thead th {\n",
       "        text-align: right;\n",
       "    }\n",
       "</style>\n",
       "<table border=\"1\" class=\"dataframe\">\n",
       "  <thead>\n",
       "    <tr style=\"text-align: right;\">\n",
       "      <th></th>\n",
       "      <th>Unnamed: 0</th>\n",
       "      <th>Unnamed: 0.1</th>\n",
       "      <th>Реплика 1 toxicity</th>\n",
       "      <th>Реплика 2 toxicity</th>\n",
       "      <th>Результат 1</th>\n",
       "      <th>Результат 2</th>\n",
       "      <th>Значение 1</th>\n",
       "      <th>Значение 2</th>\n",
       "      <th>Реплика 1 original</th>\n",
       "      <th>Реплика 2 original</th>\n",
       "      <th>Реплика 2 lemma</th>\n",
       "      <th>Выделенные слова</th>\n",
       "      <th>target_group</th>\n",
       "    </tr>\n",
       "  </thead>\n",
       "  <tbody>\n",
       "    <tr>\n",
       "      <th>0</th>\n",
       "      <td>0</td>\n",
       "      <td>10</td>\n",
       "      <td>сын шлюхи плакаты от картин уже отличить не мо...</td>\n",
       "      <td>ты хуеплет ебаный с еблищем огр мага нахуй воо...</td>\n",
       "      <td>True</td>\n",
       "      <td>True</td>\n",
       "      <td>0.979576</td>\n",
       "      <td>0.997473</td>\n",
       "      <td>сын шлюхи плакаты от картин уже отличить не мо...</td>\n",
       "      <td>ты хуеплет ебаный с еблищем огр мага нахуй воо...</td>\n",
       "      <td>['ты', 'хуепгод', 'ебаный', 'с', 'еблискать', ...</td>\n",
       "      <td>хуеплет</td>\n",
       "      <td>other</td>\n",
       "    </tr>\n",
       "  </tbody>\n",
       "</table>\n",
       "</div>"
      ],
      "text/plain": [
       "   Unnamed: 0  Unnamed: 0.1  \\\n",
       "0           0            10   \n",
       "\n",
       "                                  Реплика 1 toxicity  \\\n",
       "0  сын шлюхи плакаты от картин уже отличить не мо...   \n",
       "\n",
       "                                  Реплика 2 toxicity  Результат 1  \\\n",
       "0  ты хуеплет ебаный с еблищем огр мага нахуй воо...         True   \n",
       "\n",
       "   Результат 2  Значение 1  Значение 2  \\\n",
       "0         True    0.979576    0.997473   \n",
       "\n",
       "                                  Реплика 1 original  \\\n",
       "0  сын шлюхи плакаты от картин уже отличить не мо...   \n",
       "\n",
       "                                  Реплика 2 original  \\\n",
       "0  ты хуеплет ебаный с еблищем огр мага нахуй воо...   \n",
       "\n",
       "                                     Реплика 2 lemma Выделенные слова  \\\n",
       "0  ['ты', 'хуепгод', 'ебаный', 'с', 'еблискать', ...          хуеплет   \n",
       "\n",
       "  target_group  \n",
       "0        other  "
      ]
     },
     "execution_count": 66,
     "metadata": {},
     "output_type": "execute_result"
    }
   ],
   "source": [
    "others_df = pd.read_csv(\"others_words.csv\")\n",
    "others_df.head(1)"
   ]
  },
  {
   "cell_type": "code",
   "execution_count": 67,
   "id": "4c399b0a",
   "metadata": {},
   "outputs": [
    {
     "data": {
      "text/plain": [
       "2105"
      ]
     },
     "execution_count": 67,
     "metadata": {},
     "output_type": "execute_result"
    }
   ],
   "source": [
    "len(others_df)"
   ]
  },
  {
   "cell_type": "markdown",
   "id": "1dcf7895",
   "metadata": {},
   "source": [
    "# Concatenate all categories"
   ]
  },
  {
   "cell_type": "code",
   "execution_count": 68,
   "id": "9df13999",
   "metadata": {},
   "outputs": [],
   "source": [
    "res_df = pd.concat([\n",
    "    women_df_one,\n",
    "    women_df_multi,\n",
    "    migrant_df_one,\n",
    "    migrant_df_multi,\n",
    "    man_df_one,\n",
    "    man_df_multi,\n",
    "    born_place_df_one,\n",
    "    born_place_df_multi,\n",
    "    child_df_one,\n",
    "    child_df_multi,\n",
    "    others_df\n",
    "])\n",
    "# забыла лгбт, но переделала"
   ]
  },
  {
   "cell_type": "code",
   "execution_count": 69,
   "id": "440737ff",
   "metadata": {},
   "outputs": [
    {
     "name": "stdout",
     "output_type": "stream",
     "text": [
      "<class 'pandas.core.frame.DataFrame'>\n",
      "Int64Index: 18775 entries, 0 to 2104\n",
      "Data columns (total 13 columns):\n",
      " #   Column              Non-Null Count  Dtype  \n",
      "---  ------              --------------  -----  \n",
      " 0   Unnamed: 0          18775 non-null  int64  \n",
      " 1   Unnamed: 0.1        18775 non-null  int64  \n",
      " 2   Реплика 1 toxicity  18775 non-null  object \n",
      " 3   Реплика 2 toxicity  18775 non-null  object \n",
      " 4   Результат 1         18775 non-null  bool   \n",
      " 5   Результат 2         18775 non-null  bool   \n",
      " 6   Значение 1          18775 non-null  float64\n",
      " 7   Значение 2          18775 non-null  float64\n",
      " 8   Реплика 1 original  18775 non-null  object \n",
      " 9   Реплика 2 original  18775 non-null  object \n",
      " 10  Реплика 2 lemma     18775 non-null  object \n",
      " 11  Выделенные слова    18775 non-null  object \n",
      " 12  target_group        18775 non-null  object \n",
      "dtypes: bool(2), float64(2), int64(2), object(7)\n",
      "memory usage: 1.8+ MB\n"
     ]
    }
   ],
   "source": [
    "res_df.info()"
   ]
  },
  {
   "cell_type": "code",
   "execution_count": 70,
   "id": "26d05d56",
   "metadata": {},
   "outputs": [
    {
     "data": {
      "text/plain": [
       "18775"
      ]
     },
     "execution_count": 70,
     "metadata": {},
     "output_type": "execute_result"
    }
   ],
   "source": [
    "len(res_df)"
   ]
  },
  {
   "cell_type": "code",
   "execution_count": 71,
   "id": "52a61caa",
   "metadata": {},
   "outputs": [],
   "source": [
    "del res_df[\"Unnamed: 0\"]\n",
    "del res_df[\"Unnamed: 0.1\"]"
   ]
  },
  {
   "cell_type": "code",
   "execution_count": 72,
   "id": "763fd457",
   "metadata": {},
   "outputs": [
    {
     "data": {
      "text/html": [
       "<div>\n",
       "<style scoped>\n",
       "    .dataframe tbody tr th:only-of-type {\n",
       "        vertical-align: middle;\n",
       "    }\n",
       "\n",
       "    .dataframe tbody tr th {\n",
       "        vertical-align: top;\n",
       "    }\n",
       "\n",
       "    .dataframe thead th {\n",
       "        text-align: right;\n",
       "    }\n",
       "</style>\n",
       "<table border=\"1\" class=\"dataframe\">\n",
       "  <thead>\n",
       "    <tr style=\"text-align: right;\">\n",
       "      <th></th>\n",
       "      <th>Реплика 1 toxicity</th>\n",
       "      <th>Реплика 2 toxicity</th>\n",
       "      <th>Результат 1</th>\n",
       "      <th>Результат 2</th>\n",
       "      <th>Значение 1</th>\n",
       "      <th>Значение 2</th>\n",
       "      <th>Реплика 1 original</th>\n",
       "      <th>Реплика 2 original</th>\n",
       "      <th>Реплика 2 lemma</th>\n",
       "      <th>Выделенные слова</th>\n",
       "      <th>target_group</th>\n",
       "    </tr>\n",
       "  </thead>\n",
       "  <tbody>\n",
       "    <tr>\n",
       "      <th>0</th>\n",
       "      <td>нахуя свинозагонные русофильские пидорюндели ...</td>\n",
       "      <td>да этот загон ебаный надо удалять уже почему ...</td>\n",
       "      <td>True</td>\n",
       "      <td>True</td>\n",
       "      <td>0.994447</td>\n",
       "      <td>0.997482</td>\n",
       "      <td>Нахуя свинозагонные русофильские пидорюндели ...</td>\n",
       "      <td>Да этот загон ебаный надо удалять уже почему ...</td>\n",
       "      <td>['да', 'этот', 'загон', 'ебаный', 'надо', 'уда...</td>\n",
       "      <td>сука</td>\n",
       "      <td>women</td>\n",
       "    </tr>\n",
       "    <tr>\n",
       "      <th>1</th>\n",
       "      <td>байден подписал законопроект об увеличении в ...</td>\n",
       "      <td>я маму этого хуяйдена ебал пусть в лицо скажет...</td>\n",
       "      <td>False</td>\n",
       "      <td>True</td>\n",
       "      <td>0.000438</td>\n",
       "      <td>0.997479</td>\n",
       "      <td>Байден подписал законопроект об увеличении в ...</td>\n",
       "      <td>я маму этого хуяйдена ебал ПУСТЬ В ЛИЦО СКАЖЕТ...</td>\n",
       "      <td>['я', 'мама', 'это', 'хуяйден', 'ебал', 'пусть...</td>\n",
       "      <td>сука</td>\n",
       "      <td>women</td>\n",
       "    </tr>\n",
       "    <tr>\n",
       "      <th>2</th>\n",
       "      <td>долбаебы оп сказал про гипоталамус и как задей...</td>\n",
       "      <td>гипохуямус, блять, нихуя не понятно... я хочу ...</td>\n",
       "      <td>True</td>\n",
       "      <td>True</td>\n",
       "      <td>0.990614</td>\n",
       "      <td>0.997426</td>\n",
       "      <td>долбаебы ОП сказал про гипоталамус и как задей...</td>\n",
       "      <td>гипохуямус, блять, нихуя не понятно... Я хочу ...</td>\n",
       "      <td>['гипохуямус,', 'блять,', 'нихуй', 'не', 'поня...</td>\n",
       "      <td>сука</td>\n",
       "      <td>women</td>\n",
       "    </tr>\n",
       "    <tr>\n",
       "      <th>3</th>\n",
       "      <td>человека все устраивает в жизни и он всем дово...</td>\n",
       "      <td>у тебя когда папа видет хуй надроченный у него...</td>\n",
       "      <td>False</td>\n",
       "      <td>True</td>\n",
       "      <td>0.000719</td>\n",
       "      <td>0.997416</td>\n",
       "      <td>человека все устраивает в жизни и он всем дово...</td>\n",
       "      <td>У ТЕБЯ КОГДА ПАПА ВИДЕТ ХУЙ НАДРОЧЕННЫЙ У НЕГО...</td>\n",
       "      <td>['у', 'ты', 'когда', 'папа', 'видти', 'хуй', '...</td>\n",
       "      <td>сука</td>\n",
       "      <td>women</td>\n",
       "    </tr>\n",
       "    <tr>\n",
       "      <th>4</th>\n",
       "      <td>итт я буду восстанавливать сей гениальный опус...</td>\n",
       "      <td>еб твою мать блядь иди отсюда нахуй блядь!</td>\n",
       "      <td>False</td>\n",
       "      <td>True</td>\n",
       "      <td>0.001949</td>\n",
       "      <td>0.997409</td>\n",
       "      <td>ИТТ я буду восстанавливать сей гениальный опус...</td>\n",
       "      <td>Ёб твою мать блядь иди отсюда нахуй блядь!</td>\n",
       "      <td>['еб', 'твой', 'мать', 'блядь', 'идти', 'отсюд...</td>\n",
       "      <td>блядь</td>\n",
       "      <td>women</td>\n",
       "    </tr>\n",
       "  </tbody>\n",
       "</table>\n",
       "</div>"
      ],
      "text/plain": [
       "                                  Реплика 1 toxicity  \\\n",
       "0   нахуя свинозагонные русофильские пидорюндели ...   \n",
       "1   байден подписал законопроект об увеличении в ...   \n",
       "2  долбаебы оп сказал про гипоталамус и как задей...   \n",
       "3  человека все устраивает в жизни и он всем дово...   \n",
       "4  итт я буду восстанавливать сей гениальный опус...   \n",
       "\n",
       "                                  Реплика 2 toxicity  Результат 1  \\\n",
       "0   да этот загон ебаный надо удалять уже почему ...         True   \n",
       "1  я маму этого хуяйдена ебал пусть в лицо скажет...        False   \n",
       "2  гипохуямус, блять, нихуя не понятно... я хочу ...         True   \n",
       "3  у тебя когда папа видет хуй надроченный у него...        False   \n",
       "4         еб твою мать блядь иди отсюда нахуй блядь!        False   \n",
       "\n",
       "   Результат 2  Значение 1  Значение 2  \\\n",
       "0         True    0.994447    0.997482   \n",
       "1         True    0.000438    0.997479   \n",
       "2         True    0.990614    0.997426   \n",
       "3         True    0.000719    0.997416   \n",
       "4         True    0.001949    0.997409   \n",
       "\n",
       "                                  Реплика 1 original  \\\n",
       "0   Нахуя свинозагонные русофильские пидорюндели ...   \n",
       "1   Байден подписал законопроект об увеличении в ...   \n",
       "2  долбаебы ОП сказал про гипоталамус и как задей...   \n",
       "3  человека все устраивает в жизни и он всем дово...   \n",
       "4  ИТТ я буду восстанавливать сей гениальный опус...   \n",
       "\n",
       "                                  Реплика 2 original  \\\n",
       "0   Да этот загон ебаный надо удалять уже почему ...   \n",
       "1  я маму этого хуяйдена ебал ПУСТЬ В ЛИЦО СКАЖЕТ...   \n",
       "2  гипохуямус, блять, нихуя не понятно... Я хочу ...   \n",
       "3  У ТЕБЯ КОГДА ПАПА ВИДЕТ ХУЙ НАДРОЧЕННЫЙ У НЕГО...   \n",
       "4         Ёб твою мать блядь иди отсюда нахуй блядь!   \n",
       "\n",
       "                                     Реплика 2 lemma Выделенные слова  \\\n",
       "0  ['да', 'этот', 'загон', 'ебаный', 'надо', 'уда...             сука   \n",
       "1  ['я', 'мама', 'это', 'хуяйден', 'ебал', 'пусть...             сука   \n",
       "2  ['гипохуямус,', 'блять,', 'нихуй', 'не', 'поня...             сука   \n",
       "3  ['у', 'ты', 'когда', 'папа', 'видти', 'хуй', '...             сука   \n",
       "4  ['еб', 'твой', 'мать', 'блядь', 'идти', 'отсюд...            блядь   \n",
       "\n",
       "  target_group  \n",
       "0        women  \n",
       "1        women  \n",
       "2        women  \n",
       "3        women  \n",
       "4        women  "
      ]
     },
     "execution_count": 72,
     "metadata": {},
     "output_type": "execute_result"
    }
   ],
   "source": [
    "res_df.head()"
   ]
  },
  {
   "cell_type": "code",
   "execution_count": 73,
   "id": "882bfe29",
   "metadata": {},
   "outputs": [],
   "source": [
    "res_df.to_csv(\"concatenated_categories.csv\")"
   ]
  },
  {
   "cell_type": "code",
   "execution_count": null,
   "id": "a73ac082",
   "metadata": {},
   "outputs": [],
   "source": []
  }
 ],
 "metadata": {
  "kernelspec": {
   "display_name": "Python 3",
   "language": "python",
   "name": "python3"
  },
  "language_info": {
   "codemirror_mode": {
    "name": "ipython",
    "version": 3
   },
   "file_extension": ".py",
   "mimetype": "text/x-python",
   "name": "python",
   "nbconvert_exporter": "python",
   "pygments_lexer": "ipython3",
   "version": "3.7.7"
  }
 },
 "nbformat": 4,
 "nbformat_minor": 5
}
