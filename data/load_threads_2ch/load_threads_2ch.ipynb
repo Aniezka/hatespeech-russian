{
 "cells": [
  {
   "cell_type": "code",
   "execution_count": 1,
   "metadata": {},
   "outputs": [],
   "source": [
    "import dvach\n",
    "import os\n",
    "import pandas as pd\n",
    "import re\n",
    "from tqdm import tqdm\n",
    "from time import sleep\n",
    "# Declare the board\n",
    "board = dvach.Board('b')"
   ]
  },
  {
   "cell_type": "code",
   "execution_count": 3,
   "metadata": {},
   "outputs": [],
   "source": [
    "# Download threads\n",
    "board.update_threads()"
   ]
  },
  {
   "cell_type": "code",
   "execution_count": 4,
   "metadata": {},
   "outputs": [
    {
     "data": {
      "text/plain": [
       "208"
      ]
     },
     "execution_count": 4,
     "metadata": {},
     "output_type": "execute_result"
    }
   ],
   "source": [
    "len(board.threads)"
   ]
  },
  {
   "cell_type": "code",
   "execution_count": 5,
   "metadata": {},
   "outputs": [],
   "source": [
    "all_boards = []\n",
    "\n",
    "with open(\"all_boards.txt\", \"r\") as f:\n",
    "    all_boards = [board for board in f.read().split(\"\\n\") if board != \"\"]"
   ]
  },
  {
   "cell_type": "code",
   "execution_count": 6,
   "metadata": {},
   "outputs": [
    {
     "data": {
      "text/plain": [
       "['d',\n",
       " 'b',\n",
       " 'o',\n",
       " 'soc',\n",
       " 'media',\n",
       " 'r',\n",
       " 'api',\n",
       " 'rf',\n",
       " 'po',\n",
       " 'news',\n",
       " 'hry',\n",
       " 'au',\n",
       " 'bi',\n",
       " 'biz',\n",
       " 'bo',\n",
       " 'c',\n",
       " 'em',\n",
       " 'fa',\n",
       " 'fiz',\n",
       " 'fl',\n",
       " 'ftb',\n",
       " 'hh',\n",
       " 'hi',\n",
       " 'me',\n",
       " 'mg',\n",
       " 'mlp',\n",
       " 'mo',\n",
       " 'mov',\n",
       " 'mu',\n",
       " 'ne',\n",
       " 'psy',\n",
       " 're',\n",
       " 'sci',\n",
       " 'sf',\n",
       " 'sn',\n",
       " 'sp',\n",
       " 'spc',\n",
       " 'tv',\n",
       " 'un',\n",
       " 'w',\n",
       " 'wh',\n",
       " 'wm',\n",
       " 'wp',\n",
       " 'zog']"
      ]
     },
     "execution_count": 6,
     "metadata": {},
     "output_type": "execute_result"
    }
   ],
   "source": [
    "all_boards"
   ]
  },
  {
   "cell_type": "code",
   "execution_count": 7,
   "metadata": {},
   "outputs": [],
   "source": [
    "# post_id_answer_id = pd.DataFrame(columns=[\"post_id\", \"answer_id\"])\n",
    "# post_id_post_text = pd.DataFrame(columns=[\"post_id\", \"post_text\"])"
   ]
  },
  {
   "cell_type": "code",
   "execution_count": 8,
   "metadata": {},
   "outputs": [],
   "source": [
    "# Function to extract all the numbers from the given string\n",
    "def getNumbers(str):\n",
    "    array = re.findall(r'[0-9]+', str)\n",
    "    return array"
   ]
  },
  {
   "cell_type": "code",
   "execution_count": 10,
   "metadata": {},
   "outputs": [
    {
     "name": "stderr",
     "output_type": "stream",
     "text": [
      "100%|███████████████████████████████████████████████████████████████████████████████| 38/38 [5:48:04<00:00, 549.58s/it]\n"
     ]
    }
   ],
   "source": [
    "posts_thread_sleep = 50\n",
    "\n",
    "for board_id in tqdm(all_boards[6:]):\n",
    "    post_id_post_text_arr = []\n",
    "    post_id_answer_id_arr = []\n",
    "    \n",
    "    board = dvach.Board(board_id)\n",
    "    board.update_threads()\n",
    "    for thread in board.threads.values():\n",
    "        try:\n",
    "            thread.update_posts()\n",
    "        except KeyError as er:\n",
    "#             print(f\"Thread {thread.num} doesn't have replies\")\n",
    "            continue\n",
    "        except:\n",
    "            continue\n",
    "#         print(f\"Thread {thread.num} contain {len(thread.posts)} posts\")\n",
    "        open_post = thread.posts[0]\n",
    "        post_id_post_text_arr.append([int(open_post.num), open_post.comment])\n",
    "        for post in thread.posts[1:]:\n",
    "            # список постов, на которые отвечает текущий пост\n",
    "            curr_post_id = post.num.__str__()\n",
    "            reply_ids = getNumbers(post.comment)\n",
    "\n",
    "            # отфильтруем ошибочные числа, оставив только те, которые являются id'шниками\n",
    "            reply_ids = [post_id for post_id in reply_ids if len(post_id) == len(curr_post_id)]\n",
    "\n",
    "            # если пост не является ответом на другой пост не берём\n",
    "            if len(reply_ids) == 0:\n",
    "                continue\n",
    "\n",
    "            # отсекаем id'шники реплаи и длину последнего айдишника, оставляя только сам текст\n",
    "            text = post.comment.split(\">>\")[-1][len(reply_ids[-1]):]\n",
    "            text = text[5:] if text.startswith(\" (OP)\") else text\n",
    "\n",
    "            post_id_post_text_arr.append([int(curr_post_id), text])\n",
    "            for post_id in reply_ids:\n",
    "                post_id_answer_id_arr.append([int(post_id), int(curr_post_id)])\n",
    "            \n",
    "            posts_thread_sleep -= 1\n",
    "            if posts_thread_sleep == 0:\n",
    "                sleep(5)\n",
    "                posts_thread_sleep = 100\n",
    "    \n",
    "    post_id_answer_id = pd.DataFrame(post_id_answer_id_arr, columns=[\"post_id\", \"answer_id\"])\n",
    "    post_id_post_text = pd.DataFrame(post_id_post_text_arr, columns=[\"post_id\", \"post_text\"])\n",
    "    post_id_answer_id.to_csv(f\"../threads/post_id_answer_id_{board_id}.csv\", index=False)\n",
    "    post_id_post_text.to_csv(f\"../threads/post_id_text_{board_id}.csv\", index=False)\n",
    "\n",
    "    # спим, чтобы не прервать соединение из-за частых запросов\n",
    "    sleep(10)"
   ]
  }
 ],
 "metadata": {
  "kernelspec": {
   "display_name": "Python 3",
   "language": "python",
   "name": "python3"
  },
  "language_info": {
   "codemirror_mode": {
    "name": "ipython",
    "version": 3
   },
   "file_extension": ".py",
   "mimetype": "text/x-python",
   "name": "python",
   "nbconvert_exporter": "python",
   "pygments_lexer": "ipython3",
   "version": "3.7.7"
  }
 },
 "nbformat": 4,
 "nbformat_minor": 4
}
